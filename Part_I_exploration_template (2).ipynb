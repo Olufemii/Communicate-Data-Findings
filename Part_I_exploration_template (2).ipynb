{
 "cells": [
  {
   "cell_type": "markdown",
   "metadata": {},
   "source": [
    "# Part I - Ford GoBike System Data Exploration\n",
    "## by Olufemi Ayo-Oladaye\n",
    "\n",
    "## Introduction\n",
    "> This is a dataset for individual rides made in a bike-sharing system in San Francisco Bay area.\n",
    "\n",
    "## Preliminary Wrangling\n"
   ]
  },
  {
   "cell_type": "code",
   "execution_count": 1,
   "metadata": {},
   "outputs": [],
   "source": [
    "# import all packages and set plots to be embedded inline\n",
    "import numpy as np\n",
    "import pandas as pd\n",
    "import matplotlib.pyplot as plt\n",
    "import seaborn as sb\n",
    "\n",
    "%matplotlib inline"
   ]
  },
  {
   "cell_type": "markdown",
   "metadata": {},
   "source": [
    "> Loading in dataset.\n"
   ]
  },
  {
   "cell_type": "code",
   "execution_count": 2,
   "metadata": {},
   "outputs": [],
   "source": [
    "dataset = pd.read_csv('201902-fordgobike-tripdata.csv')"
   ]
  },
  {
   "cell_type": "code",
   "execution_count": 3,
   "metadata": {
    "scrolled": true
   },
   "outputs": [
    {
     "data": {
      "text/html": [
       "<div>\n",
       "<style scoped>\n",
       "    .dataframe tbody tr th:only-of-type {\n",
       "        vertical-align: middle;\n",
       "    }\n",
       "\n",
       "    .dataframe tbody tr th {\n",
       "        vertical-align: top;\n",
       "    }\n",
       "\n",
       "    .dataframe thead th {\n",
       "        text-align: right;\n",
       "    }\n",
       "</style>\n",
       "<table border=\"1\" class=\"dataframe\">\n",
       "  <thead>\n",
       "    <tr style=\"text-align: right;\">\n",
       "      <th></th>\n",
       "      <th>duration_sec</th>\n",
       "      <th>start_time</th>\n",
       "      <th>end_time</th>\n",
       "      <th>start_station_id</th>\n",
       "      <th>start_station_name</th>\n",
       "      <th>start_station_latitude</th>\n",
       "      <th>start_station_longitude</th>\n",
       "      <th>end_station_id</th>\n",
       "      <th>end_station_name</th>\n",
       "      <th>end_station_latitude</th>\n",
       "      <th>end_station_longitude</th>\n",
       "      <th>bike_id</th>\n",
       "      <th>user_type</th>\n",
       "      <th>member_birth_year</th>\n",
       "      <th>member_gender</th>\n",
       "      <th>bike_share_for_all_trip</th>\n",
       "    </tr>\n",
       "  </thead>\n",
       "  <tbody>\n",
       "    <tr>\n",
       "      <th>0</th>\n",
       "      <td>52185</td>\n",
       "      <td>2019-02-28 17:32:10.1450</td>\n",
       "      <td>2019-03-01 08:01:55.9750</td>\n",
       "      <td>21.0</td>\n",
       "      <td>Montgomery St BART Station (Market St at 2nd St)</td>\n",
       "      <td>37.789625</td>\n",
       "      <td>-122.400811</td>\n",
       "      <td>13.0</td>\n",
       "      <td>Commercial St at Montgomery St</td>\n",
       "      <td>37.794231</td>\n",
       "      <td>-122.402923</td>\n",
       "      <td>4902</td>\n",
       "      <td>Customer</td>\n",
       "      <td>1984.0</td>\n",
       "      <td>Male</td>\n",
       "      <td>No</td>\n",
       "    </tr>\n",
       "    <tr>\n",
       "      <th>1</th>\n",
       "      <td>42521</td>\n",
       "      <td>2019-02-28 18:53:21.7890</td>\n",
       "      <td>2019-03-01 06:42:03.0560</td>\n",
       "      <td>23.0</td>\n",
       "      <td>The Embarcadero at Steuart St</td>\n",
       "      <td>37.791464</td>\n",
       "      <td>-122.391034</td>\n",
       "      <td>81.0</td>\n",
       "      <td>Berry St at 4th St</td>\n",
       "      <td>37.775880</td>\n",
       "      <td>-122.393170</td>\n",
       "      <td>2535</td>\n",
       "      <td>Customer</td>\n",
       "      <td>NaN</td>\n",
       "      <td>NaN</td>\n",
       "      <td>No</td>\n",
       "    </tr>\n",
       "    <tr>\n",
       "      <th>2</th>\n",
       "      <td>61854</td>\n",
       "      <td>2019-02-28 12:13:13.2180</td>\n",
       "      <td>2019-03-01 05:24:08.1460</td>\n",
       "      <td>86.0</td>\n",
       "      <td>Market St at Dolores St</td>\n",
       "      <td>37.769305</td>\n",
       "      <td>-122.426826</td>\n",
       "      <td>3.0</td>\n",
       "      <td>Powell St BART Station (Market St at 4th St)</td>\n",
       "      <td>37.786375</td>\n",
       "      <td>-122.404904</td>\n",
       "      <td>5905</td>\n",
       "      <td>Customer</td>\n",
       "      <td>1972.0</td>\n",
       "      <td>Male</td>\n",
       "      <td>No</td>\n",
       "    </tr>\n",
       "    <tr>\n",
       "      <th>3</th>\n",
       "      <td>36490</td>\n",
       "      <td>2019-02-28 17:54:26.0100</td>\n",
       "      <td>2019-03-01 04:02:36.8420</td>\n",
       "      <td>375.0</td>\n",
       "      <td>Grove St at Masonic Ave</td>\n",
       "      <td>37.774836</td>\n",
       "      <td>-122.446546</td>\n",
       "      <td>70.0</td>\n",
       "      <td>Central Ave at Fell St</td>\n",
       "      <td>37.773311</td>\n",
       "      <td>-122.444293</td>\n",
       "      <td>6638</td>\n",
       "      <td>Subscriber</td>\n",
       "      <td>1989.0</td>\n",
       "      <td>Other</td>\n",
       "      <td>No</td>\n",
       "    </tr>\n",
       "    <tr>\n",
       "      <th>4</th>\n",
       "      <td>1585</td>\n",
       "      <td>2019-02-28 23:54:18.5490</td>\n",
       "      <td>2019-03-01 00:20:44.0740</td>\n",
       "      <td>7.0</td>\n",
       "      <td>Frank H Ogawa Plaza</td>\n",
       "      <td>37.804562</td>\n",
       "      <td>-122.271738</td>\n",
       "      <td>222.0</td>\n",
       "      <td>10th Ave at E 15th St</td>\n",
       "      <td>37.792714</td>\n",
       "      <td>-122.248780</td>\n",
       "      <td>4898</td>\n",
       "      <td>Subscriber</td>\n",
       "      <td>1974.0</td>\n",
       "      <td>Male</td>\n",
       "      <td>Yes</td>\n",
       "    </tr>\n",
       "    <tr>\n",
       "      <th>5</th>\n",
       "      <td>1793</td>\n",
       "      <td>2019-02-28 23:49:58.6320</td>\n",
       "      <td>2019-03-01 00:19:51.7600</td>\n",
       "      <td>93.0</td>\n",
       "      <td>4th St at Mission Bay Blvd S</td>\n",
       "      <td>37.770407</td>\n",
       "      <td>-122.391198</td>\n",
       "      <td>323.0</td>\n",
       "      <td>Broadway at Kearny</td>\n",
       "      <td>37.798014</td>\n",
       "      <td>-122.405950</td>\n",
       "      <td>5200</td>\n",
       "      <td>Subscriber</td>\n",
       "      <td>1959.0</td>\n",
       "      <td>Male</td>\n",
       "      <td>No</td>\n",
       "    </tr>\n",
       "    <tr>\n",
       "      <th>6</th>\n",
       "      <td>1147</td>\n",
       "      <td>2019-02-28 23:55:35.1040</td>\n",
       "      <td>2019-03-01 00:14:42.5880</td>\n",
       "      <td>300.0</td>\n",
       "      <td>Palm St at Willow St</td>\n",
       "      <td>37.317298</td>\n",
       "      <td>-121.884995</td>\n",
       "      <td>312.0</td>\n",
       "      <td>San Jose Diridon Station</td>\n",
       "      <td>37.329732</td>\n",
       "      <td>-121.901782</td>\n",
       "      <td>3803</td>\n",
       "      <td>Subscriber</td>\n",
       "      <td>1983.0</td>\n",
       "      <td>Female</td>\n",
       "      <td>No</td>\n",
       "    </tr>\n",
       "    <tr>\n",
       "      <th>7</th>\n",
       "      <td>1615</td>\n",
       "      <td>2019-02-28 23:41:06.7660</td>\n",
       "      <td>2019-03-01 00:08:02.7560</td>\n",
       "      <td>10.0</td>\n",
       "      <td>Washington St at Kearny St</td>\n",
       "      <td>37.795393</td>\n",
       "      <td>-122.404770</td>\n",
       "      <td>127.0</td>\n",
       "      <td>Valencia St at 21st St</td>\n",
       "      <td>37.756708</td>\n",
       "      <td>-122.421025</td>\n",
       "      <td>6329</td>\n",
       "      <td>Subscriber</td>\n",
       "      <td>1989.0</td>\n",
       "      <td>Male</td>\n",
       "      <td>No</td>\n",
       "    </tr>\n",
       "    <tr>\n",
       "      <th>8</th>\n",
       "      <td>1570</td>\n",
       "      <td>2019-02-28 23:41:48.7900</td>\n",
       "      <td>2019-03-01 00:07:59.7150</td>\n",
       "      <td>10.0</td>\n",
       "      <td>Washington St at Kearny St</td>\n",
       "      <td>37.795393</td>\n",
       "      <td>-122.404770</td>\n",
       "      <td>127.0</td>\n",
       "      <td>Valencia St at 21st St</td>\n",
       "      <td>37.756708</td>\n",
       "      <td>-122.421025</td>\n",
       "      <td>6548</td>\n",
       "      <td>Subscriber</td>\n",
       "      <td>1988.0</td>\n",
       "      <td>Other</td>\n",
       "      <td>No</td>\n",
       "    </tr>\n",
       "    <tr>\n",
       "      <th>9</th>\n",
       "      <td>1049</td>\n",
       "      <td>2019-02-28 23:49:47.6990</td>\n",
       "      <td>2019-03-01 00:07:17.0250</td>\n",
       "      <td>19.0</td>\n",
       "      <td>Post St at Kearny St</td>\n",
       "      <td>37.788975</td>\n",
       "      <td>-122.403452</td>\n",
       "      <td>121.0</td>\n",
       "      <td>Mission Playground</td>\n",
       "      <td>37.759210</td>\n",
       "      <td>-122.421339</td>\n",
       "      <td>6488</td>\n",
       "      <td>Subscriber</td>\n",
       "      <td>1992.0</td>\n",
       "      <td>Male</td>\n",
       "      <td>No</td>\n",
       "    </tr>\n",
       "    <tr>\n",
       "      <th>10</th>\n",
       "      <td>458</td>\n",
       "      <td>2019-02-28 23:57:57.2110</td>\n",
       "      <td>2019-03-01 00:05:35.4350</td>\n",
       "      <td>370.0</td>\n",
       "      <td>Jones St at Post St</td>\n",
       "      <td>37.787327</td>\n",
       "      <td>-122.413278</td>\n",
       "      <td>43.0</td>\n",
       "      <td>San Francisco Public Library (Grove St at Hyde...</td>\n",
       "      <td>37.778768</td>\n",
       "      <td>-122.415929</td>\n",
       "      <td>5318</td>\n",
       "      <td>Subscriber</td>\n",
       "      <td>1996.0</td>\n",
       "      <td>Female</td>\n",
       "      <td>Yes</td>\n",
       "    </tr>\n",
       "    <tr>\n",
       "      <th>11</th>\n",
       "      <td>506</td>\n",
       "      <td>2019-02-28 23:56:55.5400</td>\n",
       "      <td>2019-03-01 00:05:21.7330</td>\n",
       "      <td>44.0</td>\n",
       "      <td>Civic Center/UN Plaza BART Station (Market St ...</td>\n",
       "      <td>37.781074</td>\n",
       "      <td>-122.411738</td>\n",
       "      <td>343.0</td>\n",
       "      <td>Bryant St at 2nd St</td>\n",
       "      <td>37.783172</td>\n",
       "      <td>-122.393572</td>\n",
       "      <td>5848</td>\n",
       "      <td>Subscriber</td>\n",
       "      <td>1993.0</td>\n",
       "      <td>Male</td>\n",
       "      <td>No</td>\n",
       "    </tr>\n",
       "    <tr>\n",
       "      <th>12</th>\n",
       "      <td>1176</td>\n",
       "      <td>2019-02-28 23:45:12.6510</td>\n",
       "      <td>2019-03-01 00:04:49.1840</td>\n",
       "      <td>127.0</td>\n",
       "      <td>Valencia St at 21st St</td>\n",
       "      <td>37.756708</td>\n",
       "      <td>-122.421025</td>\n",
       "      <td>323.0</td>\n",
       "      <td>Broadway at Kearny</td>\n",
       "      <td>37.798014</td>\n",
       "      <td>-122.405950</td>\n",
       "      <td>5328</td>\n",
       "      <td>Customer</td>\n",
       "      <td>1990.0</td>\n",
       "      <td>Male</td>\n",
       "      <td>No</td>\n",
       "    </tr>\n",
       "    <tr>\n",
       "      <th>13</th>\n",
       "      <td>915</td>\n",
       "      <td>2019-02-28 23:49:06.0620</td>\n",
       "      <td>2019-03-01 00:04:21.8670</td>\n",
       "      <td>252.0</td>\n",
       "      <td>Channing Way at Shattuck Ave</td>\n",
       "      <td>37.865847</td>\n",
       "      <td>-122.267443</td>\n",
       "      <td>244.0</td>\n",
       "      <td>Shattuck Ave at Hearst Ave</td>\n",
       "      <td>37.873676</td>\n",
       "      <td>-122.268487</td>\n",
       "      <td>5101</td>\n",
       "      <td>Subscriber</td>\n",
       "      <td>NaN</td>\n",
       "      <td>NaN</td>\n",
       "      <td>No</td>\n",
       "    </tr>\n",
       "    <tr>\n",
       "      <th>14</th>\n",
       "      <td>395</td>\n",
       "      <td>2019-02-28 23:56:26.8480</td>\n",
       "      <td>2019-03-01 00:03:01.9470</td>\n",
       "      <td>243.0</td>\n",
       "      <td>Bancroft Way at College Ave</td>\n",
       "      <td>37.869360</td>\n",
       "      <td>-122.254337</td>\n",
       "      <td>252.0</td>\n",
       "      <td>Channing Way at Shattuck Ave</td>\n",
       "      <td>37.865847</td>\n",
       "      <td>-122.267443</td>\n",
       "      <td>4786</td>\n",
       "      <td>Subscriber</td>\n",
       "      <td>1988.0</td>\n",
       "      <td>Male</td>\n",
       "      <td>No</td>\n",
       "    </tr>\n",
       "    <tr>\n",
       "      <th>15</th>\n",
       "      <td>208</td>\n",
       "      <td>2019-02-28 23:59:18.5480</td>\n",
       "      <td>2019-03-01 00:02:47.2280</td>\n",
       "      <td>349.0</td>\n",
       "      <td>Howard St at Mary St</td>\n",
       "      <td>37.781010</td>\n",
       "      <td>-122.405666</td>\n",
       "      <td>60.0</td>\n",
       "      <td>8th St at Ringold St</td>\n",
       "      <td>37.774520</td>\n",
       "      <td>-122.409449</td>\n",
       "      <td>6361</td>\n",
       "      <td>Subscriber</td>\n",
       "      <td>1993.0</td>\n",
       "      <td>Male</td>\n",
       "      <td>Yes</td>\n",
       "    </tr>\n",
       "    <tr>\n",
       "      <th>16</th>\n",
       "      <td>548</td>\n",
       "      <td>2019-02-28 23:50:41.6070</td>\n",
       "      <td>2019-02-28 23:59:49.9530</td>\n",
       "      <td>131.0</td>\n",
       "      <td>22nd St at Dolores St</td>\n",
       "      <td>37.755000</td>\n",
       "      <td>-122.425728</td>\n",
       "      <td>71.0</td>\n",
       "      <td>Broderick St at Oak St</td>\n",
       "      <td>37.773063</td>\n",
       "      <td>-122.439078</td>\n",
       "      <td>6572</td>\n",
       "      <td>Subscriber</td>\n",
       "      <td>1981.0</td>\n",
       "      <td>Male</td>\n",
       "      <td>No</td>\n",
       "    </tr>\n",
       "    <tr>\n",
       "      <th>17</th>\n",
       "      <td>674</td>\n",
       "      <td>2019-02-28 23:48:25.0950</td>\n",
       "      <td>2019-02-28 23:59:40.0920</td>\n",
       "      <td>74.0</td>\n",
       "      <td>Laguna St at Hayes St</td>\n",
       "      <td>37.776435</td>\n",
       "      <td>-122.426244</td>\n",
       "      <td>336.0</td>\n",
       "      <td>Potrero Ave and Mariposa St</td>\n",
       "      <td>37.763281</td>\n",
       "      <td>-122.407377</td>\n",
       "      <td>5343</td>\n",
       "      <td>Subscriber</td>\n",
       "      <td>1975.0</td>\n",
       "      <td>Male</td>\n",
       "      <td>No</td>\n",
       "    </tr>\n",
       "    <tr>\n",
       "      <th>18</th>\n",
       "      <td>557</td>\n",
       "      <td>2019-02-28 23:49:01.8510</td>\n",
       "      <td>2019-02-28 23:58:19.8090</td>\n",
       "      <td>321.0</td>\n",
       "      <td>5th St at Folsom</td>\n",
       "      <td>37.780146</td>\n",
       "      <td>-122.403071</td>\n",
       "      <td>75.0</td>\n",
       "      <td>Market St at Franklin St</td>\n",
       "      <td>37.773793</td>\n",
       "      <td>-122.421239</td>\n",
       "      <td>5854</td>\n",
       "      <td>Subscriber</td>\n",
       "      <td>1990.0</td>\n",
       "      <td>Male</td>\n",
       "      <td>No</td>\n",
       "    </tr>\n",
       "    <tr>\n",
       "      <th>19</th>\n",
       "      <td>874</td>\n",
       "      <td>2019-02-28 23:43:05.1830</td>\n",
       "      <td>2019-02-28 23:57:39.7960</td>\n",
       "      <td>180.0</td>\n",
       "      <td>Telegraph Ave at 23rd St</td>\n",
       "      <td>37.812678</td>\n",
       "      <td>-122.268773</td>\n",
       "      <td>180.0</td>\n",
       "      <td>Telegraph Ave at 23rd St</td>\n",
       "      <td>37.812678</td>\n",
       "      <td>-122.268773</td>\n",
       "      <td>5629</td>\n",
       "      <td>Customer</td>\n",
       "      <td>1978.0</td>\n",
       "      <td>Male</td>\n",
       "      <td>No</td>\n",
       "    </tr>\n",
       "  </tbody>\n",
       "</table>\n",
       "</div>"
      ],
      "text/plain": [
       "    duration_sec                start_time                  end_time  \\\n",
       "0          52185  2019-02-28 17:32:10.1450  2019-03-01 08:01:55.9750   \n",
       "1          42521  2019-02-28 18:53:21.7890  2019-03-01 06:42:03.0560   \n",
       "2          61854  2019-02-28 12:13:13.2180  2019-03-01 05:24:08.1460   \n",
       "3          36490  2019-02-28 17:54:26.0100  2019-03-01 04:02:36.8420   \n",
       "4           1585  2019-02-28 23:54:18.5490  2019-03-01 00:20:44.0740   \n",
       "5           1793  2019-02-28 23:49:58.6320  2019-03-01 00:19:51.7600   \n",
       "6           1147  2019-02-28 23:55:35.1040  2019-03-01 00:14:42.5880   \n",
       "7           1615  2019-02-28 23:41:06.7660  2019-03-01 00:08:02.7560   \n",
       "8           1570  2019-02-28 23:41:48.7900  2019-03-01 00:07:59.7150   \n",
       "9           1049  2019-02-28 23:49:47.6990  2019-03-01 00:07:17.0250   \n",
       "10           458  2019-02-28 23:57:57.2110  2019-03-01 00:05:35.4350   \n",
       "11           506  2019-02-28 23:56:55.5400  2019-03-01 00:05:21.7330   \n",
       "12          1176  2019-02-28 23:45:12.6510  2019-03-01 00:04:49.1840   \n",
       "13           915  2019-02-28 23:49:06.0620  2019-03-01 00:04:21.8670   \n",
       "14           395  2019-02-28 23:56:26.8480  2019-03-01 00:03:01.9470   \n",
       "15           208  2019-02-28 23:59:18.5480  2019-03-01 00:02:47.2280   \n",
       "16           548  2019-02-28 23:50:41.6070  2019-02-28 23:59:49.9530   \n",
       "17           674  2019-02-28 23:48:25.0950  2019-02-28 23:59:40.0920   \n",
       "18           557  2019-02-28 23:49:01.8510  2019-02-28 23:58:19.8090   \n",
       "19           874  2019-02-28 23:43:05.1830  2019-02-28 23:57:39.7960   \n",
       "\n",
       "    start_station_id                                 start_station_name  \\\n",
       "0               21.0   Montgomery St BART Station (Market St at 2nd St)   \n",
       "1               23.0                      The Embarcadero at Steuart St   \n",
       "2               86.0                            Market St at Dolores St   \n",
       "3              375.0                            Grove St at Masonic Ave   \n",
       "4                7.0                                Frank H Ogawa Plaza   \n",
       "5               93.0                       4th St at Mission Bay Blvd S   \n",
       "6              300.0                               Palm St at Willow St   \n",
       "7               10.0                         Washington St at Kearny St   \n",
       "8               10.0                         Washington St at Kearny St   \n",
       "9               19.0                               Post St at Kearny St   \n",
       "10             370.0                                Jones St at Post St   \n",
       "11              44.0  Civic Center/UN Plaza BART Station (Market St ...   \n",
       "12             127.0                             Valencia St at 21st St   \n",
       "13             252.0                       Channing Way at Shattuck Ave   \n",
       "14             243.0                        Bancroft Way at College Ave   \n",
       "15             349.0                               Howard St at Mary St   \n",
       "16             131.0                              22nd St at Dolores St   \n",
       "17              74.0                              Laguna St at Hayes St   \n",
       "18             321.0                                   5th St at Folsom   \n",
       "19             180.0                           Telegraph Ave at 23rd St   \n",
       "\n",
       "    start_station_latitude  start_station_longitude  end_station_id  \\\n",
       "0                37.789625              -122.400811            13.0   \n",
       "1                37.791464              -122.391034            81.0   \n",
       "2                37.769305              -122.426826             3.0   \n",
       "3                37.774836              -122.446546            70.0   \n",
       "4                37.804562              -122.271738           222.0   \n",
       "5                37.770407              -122.391198           323.0   \n",
       "6                37.317298              -121.884995           312.0   \n",
       "7                37.795393              -122.404770           127.0   \n",
       "8                37.795393              -122.404770           127.0   \n",
       "9                37.788975              -122.403452           121.0   \n",
       "10               37.787327              -122.413278            43.0   \n",
       "11               37.781074              -122.411738           343.0   \n",
       "12               37.756708              -122.421025           323.0   \n",
       "13               37.865847              -122.267443           244.0   \n",
       "14               37.869360              -122.254337           252.0   \n",
       "15               37.781010              -122.405666            60.0   \n",
       "16               37.755000              -122.425728            71.0   \n",
       "17               37.776435              -122.426244           336.0   \n",
       "18               37.780146              -122.403071            75.0   \n",
       "19               37.812678              -122.268773           180.0   \n",
       "\n",
       "                                     end_station_name  end_station_latitude  \\\n",
       "0                      Commercial St at Montgomery St             37.794231   \n",
       "1                                  Berry St at 4th St             37.775880   \n",
       "2        Powell St BART Station (Market St at 4th St)             37.786375   \n",
       "3                              Central Ave at Fell St             37.773311   \n",
       "4                               10th Ave at E 15th St             37.792714   \n",
       "5                                  Broadway at Kearny             37.798014   \n",
       "6                            San Jose Diridon Station             37.329732   \n",
       "7                              Valencia St at 21st St             37.756708   \n",
       "8                              Valencia St at 21st St             37.756708   \n",
       "9                                  Mission Playground             37.759210   \n",
       "10  San Francisco Public Library (Grove St at Hyde...             37.778768   \n",
       "11                                Bryant St at 2nd St             37.783172   \n",
       "12                                 Broadway at Kearny             37.798014   \n",
       "13                         Shattuck Ave at Hearst Ave             37.873676   \n",
       "14                       Channing Way at Shattuck Ave             37.865847   \n",
       "15                               8th St at Ringold St             37.774520   \n",
       "16                             Broderick St at Oak St             37.773063   \n",
       "17                        Potrero Ave and Mariposa St             37.763281   \n",
       "18                           Market St at Franklin St             37.773793   \n",
       "19                           Telegraph Ave at 23rd St             37.812678   \n",
       "\n",
       "    end_station_longitude  bike_id   user_type  member_birth_year  \\\n",
       "0             -122.402923     4902    Customer             1984.0   \n",
       "1             -122.393170     2535    Customer                NaN   \n",
       "2             -122.404904     5905    Customer             1972.0   \n",
       "3             -122.444293     6638  Subscriber             1989.0   \n",
       "4             -122.248780     4898  Subscriber             1974.0   \n",
       "5             -122.405950     5200  Subscriber             1959.0   \n",
       "6             -121.901782     3803  Subscriber             1983.0   \n",
       "7             -122.421025     6329  Subscriber             1989.0   \n",
       "8             -122.421025     6548  Subscriber             1988.0   \n",
       "9             -122.421339     6488  Subscriber             1992.0   \n",
       "10            -122.415929     5318  Subscriber             1996.0   \n",
       "11            -122.393572     5848  Subscriber             1993.0   \n",
       "12            -122.405950     5328    Customer             1990.0   \n",
       "13            -122.268487     5101  Subscriber                NaN   \n",
       "14            -122.267443     4786  Subscriber             1988.0   \n",
       "15            -122.409449     6361  Subscriber             1993.0   \n",
       "16            -122.439078     6572  Subscriber             1981.0   \n",
       "17            -122.407377     5343  Subscriber             1975.0   \n",
       "18            -122.421239     5854  Subscriber             1990.0   \n",
       "19            -122.268773     5629    Customer             1978.0   \n",
       "\n",
       "   member_gender bike_share_for_all_trip  \n",
       "0           Male                      No  \n",
       "1            NaN                      No  \n",
       "2           Male                      No  \n",
       "3          Other                      No  \n",
       "4           Male                     Yes  \n",
       "5           Male                      No  \n",
       "6         Female                      No  \n",
       "7           Male                      No  \n",
       "8          Other                      No  \n",
       "9           Male                      No  \n",
       "10        Female                     Yes  \n",
       "11          Male                      No  \n",
       "12          Male                      No  \n",
       "13           NaN                      No  \n",
       "14          Male                      No  \n",
       "15          Male                     Yes  \n",
       "16          Male                      No  \n",
       "17          Male                      No  \n",
       "18          Male                      No  \n",
       "19          Male                      No  "
      ]
     },
     "execution_count": 3,
     "metadata": {},
     "output_type": "execute_result"
    }
   ],
   "source": [
    "dataset.head(20)"
   ]
  },
  {
   "cell_type": "code",
   "execution_count": 4,
   "metadata": {},
   "outputs": [
    {
     "data": {
      "text/plain": [
       "(183412, 16)"
      ]
     },
     "execution_count": 4,
     "metadata": {},
     "output_type": "execute_result"
    }
   ],
   "source": [
    "dataset.shape"
   ]
  },
  {
   "cell_type": "code",
   "execution_count": 5,
   "metadata": {
    "scrolled": true
   },
   "outputs": [
    {
     "name": "stdout",
     "output_type": "stream",
     "text": [
      "<class 'pandas.core.frame.DataFrame'>\n",
      "RangeIndex: 183412 entries, 0 to 183411\n",
      "Data columns (total 16 columns):\n",
      "duration_sec               183412 non-null int64\n",
      "start_time                 183412 non-null object\n",
      "end_time                   183412 non-null object\n",
      "start_station_id           183215 non-null float64\n",
      "start_station_name         183215 non-null object\n",
      "start_station_latitude     183412 non-null float64\n",
      "start_station_longitude    183412 non-null float64\n",
      "end_station_id             183215 non-null float64\n",
      "end_station_name           183215 non-null object\n",
      "end_station_latitude       183412 non-null float64\n",
      "end_station_longitude      183412 non-null float64\n",
      "bike_id                    183412 non-null int64\n",
      "user_type                  183412 non-null object\n",
      "member_birth_year          175147 non-null float64\n",
      "member_gender              175147 non-null object\n",
      "bike_share_for_all_trip    183412 non-null object\n",
      "dtypes: float64(7), int64(2), object(7)\n",
      "memory usage: 22.4+ MB\n"
     ]
    }
   ],
   "source": [
    "dataset.info()"
   ]
  },
  {
   "cell_type": "markdown",
   "metadata": {},
   "source": [
    "Datatype to be corrected for start_time and end_time columns"
   ]
  },
  {
   "cell_type": "code",
   "execution_count": 6,
   "metadata": {
    "scrolled": false
   },
   "outputs": [
    {
     "data": {
      "text/html": [
       "<div>\n",
       "<style scoped>\n",
       "    .dataframe tbody tr th:only-of-type {\n",
       "        vertical-align: middle;\n",
       "    }\n",
       "\n",
       "    .dataframe tbody tr th {\n",
       "        vertical-align: top;\n",
       "    }\n",
       "\n",
       "    .dataframe thead th {\n",
       "        text-align: right;\n",
       "    }\n",
       "</style>\n",
       "<table border=\"1\" class=\"dataframe\">\n",
       "  <thead>\n",
       "    <tr style=\"text-align: right;\">\n",
       "      <th></th>\n",
       "      <th>duration_sec</th>\n",
       "      <th>start_station_id</th>\n",
       "      <th>start_station_latitude</th>\n",
       "      <th>start_station_longitude</th>\n",
       "      <th>end_station_id</th>\n",
       "      <th>end_station_latitude</th>\n",
       "      <th>end_station_longitude</th>\n",
       "      <th>bike_id</th>\n",
       "      <th>member_birth_year</th>\n",
       "    </tr>\n",
       "  </thead>\n",
       "  <tbody>\n",
       "    <tr>\n",
       "      <th>count</th>\n",
       "      <td>183412.000000</td>\n",
       "      <td>183215.000000</td>\n",
       "      <td>183412.000000</td>\n",
       "      <td>183412.000000</td>\n",
       "      <td>183215.000000</td>\n",
       "      <td>183412.000000</td>\n",
       "      <td>183412.000000</td>\n",
       "      <td>183412.000000</td>\n",
       "      <td>175147.000000</td>\n",
       "    </tr>\n",
       "    <tr>\n",
       "      <th>mean</th>\n",
       "      <td>726.078435</td>\n",
       "      <td>138.590427</td>\n",
       "      <td>37.771223</td>\n",
       "      <td>-122.352664</td>\n",
       "      <td>136.249123</td>\n",
       "      <td>37.771427</td>\n",
       "      <td>-122.352250</td>\n",
       "      <td>4472.906375</td>\n",
       "      <td>1984.806437</td>\n",
       "    </tr>\n",
       "    <tr>\n",
       "      <th>std</th>\n",
       "      <td>1794.389780</td>\n",
       "      <td>111.778864</td>\n",
       "      <td>0.099581</td>\n",
       "      <td>0.117097</td>\n",
       "      <td>111.515131</td>\n",
       "      <td>0.099490</td>\n",
       "      <td>0.116673</td>\n",
       "      <td>1664.383394</td>\n",
       "      <td>10.116689</td>\n",
       "    </tr>\n",
       "    <tr>\n",
       "      <th>min</th>\n",
       "      <td>61.000000</td>\n",
       "      <td>3.000000</td>\n",
       "      <td>37.317298</td>\n",
       "      <td>-122.453704</td>\n",
       "      <td>3.000000</td>\n",
       "      <td>37.317298</td>\n",
       "      <td>-122.453704</td>\n",
       "      <td>11.000000</td>\n",
       "      <td>1878.000000</td>\n",
       "    </tr>\n",
       "    <tr>\n",
       "      <th>25%</th>\n",
       "      <td>325.000000</td>\n",
       "      <td>47.000000</td>\n",
       "      <td>37.770083</td>\n",
       "      <td>-122.412408</td>\n",
       "      <td>44.000000</td>\n",
       "      <td>37.770407</td>\n",
       "      <td>-122.411726</td>\n",
       "      <td>3777.000000</td>\n",
       "      <td>1980.000000</td>\n",
       "    </tr>\n",
       "    <tr>\n",
       "      <th>50%</th>\n",
       "      <td>514.000000</td>\n",
       "      <td>104.000000</td>\n",
       "      <td>37.780760</td>\n",
       "      <td>-122.398285</td>\n",
       "      <td>100.000000</td>\n",
       "      <td>37.781010</td>\n",
       "      <td>-122.398279</td>\n",
       "      <td>4958.000000</td>\n",
       "      <td>1987.000000</td>\n",
       "    </tr>\n",
       "    <tr>\n",
       "      <th>75%</th>\n",
       "      <td>796.000000</td>\n",
       "      <td>239.000000</td>\n",
       "      <td>37.797280</td>\n",
       "      <td>-122.286533</td>\n",
       "      <td>235.000000</td>\n",
       "      <td>37.797320</td>\n",
       "      <td>-122.288045</td>\n",
       "      <td>5502.000000</td>\n",
       "      <td>1992.000000</td>\n",
       "    </tr>\n",
       "    <tr>\n",
       "      <th>max</th>\n",
       "      <td>85444.000000</td>\n",
       "      <td>398.000000</td>\n",
       "      <td>37.880222</td>\n",
       "      <td>-121.874119</td>\n",
       "      <td>398.000000</td>\n",
       "      <td>37.880222</td>\n",
       "      <td>-121.874119</td>\n",
       "      <td>6645.000000</td>\n",
       "      <td>2001.000000</td>\n",
       "    </tr>\n",
       "  </tbody>\n",
       "</table>\n",
       "</div>"
      ],
      "text/plain": [
       "        duration_sec  start_station_id  start_station_latitude  \\\n",
       "count  183412.000000     183215.000000           183412.000000   \n",
       "mean      726.078435        138.590427               37.771223   \n",
       "std      1794.389780        111.778864                0.099581   \n",
       "min        61.000000          3.000000               37.317298   \n",
       "25%       325.000000         47.000000               37.770083   \n",
       "50%       514.000000        104.000000               37.780760   \n",
       "75%       796.000000        239.000000               37.797280   \n",
       "max     85444.000000        398.000000               37.880222   \n",
       "\n",
       "       start_station_longitude  end_station_id  end_station_latitude  \\\n",
       "count            183412.000000   183215.000000         183412.000000   \n",
       "mean               -122.352664      136.249123             37.771427   \n",
       "std                   0.117097      111.515131              0.099490   \n",
       "min                -122.453704        3.000000             37.317298   \n",
       "25%                -122.412408       44.000000             37.770407   \n",
       "50%                -122.398285      100.000000             37.781010   \n",
       "75%                -122.286533      235.000000             37.797320   \n",
       "max                -121.874119      398.000000             37.880222   \n",
       "\n",
       "       end_station_longitude        bike_id  member_birth_year  \n",
       "count          183412.000000  183412.000000      175147.000000  \n",
       "mean             -122.352250    4472.906375        1984.806437  \n",
       "std                 0.116673    1664.383394          10.116689  \n",
       "min              -122.453704      11.000000        1878.000000  \n",
       "25%              -122.411726    3777.000000        1980.000000  \n",
       "50%              -122.398279    4958.000000        1987.000000  \n",
       "75%              -122.288045    5502.000000        1992.000000  \n",
       "max              -121.874119    6645.000000        2001.000000  "
      ]
     },
     "execution_count": 6,
     "metadata": {},
     "output_type": "execute_result"
    }
   ],
   "source": [
    "dataset.describe()"
   ]
  },
  {
   "cell_type": "markdown",
   "metadata": {},
   "source": [
    "Average user is 38 years, average ride duration is 12 mins 6 secs "
   ]
  },
  {
   "cell_type": "code",
   "execution_count": 7,
   "metadata": {
    "scrolled": true
   },
   "outputs": [
    {
     "data": {
      "text/plain": [
       "No     166053\n",
       "Yes     17359\n",
       "Name: bike_share_for_all_trip, dtype: int64"
      ]
     },
     "execution_count": 7,
     "metadata": {},
     "output_type": "execute_result"
    }
   ],
   "source": [
    "dataset['bike_share_for_all_trip'].value_counts()"
   ]
  },
  {
   "cell_type": "markdown",
   "metadata": {},
   "source": [
    "#### I am interested in users that opt for bike sharing"
   ]
  },
  {
   "cell_type": "code",
   "execution_count": 8,
   "metadata": {},
   "outputs": [],
   "source": [
    "df = dataset[dataset['bike_share_for_all_trip'] == 'Yes']"
   ]
  },
  {
   "cell_type": "code",
   "execution_count": 9,
   "metadata": {
    "scrolled": true
   },
   "outputs": [
    {
     "data": {
      "text/plain": [
       "Subscriber    17359\n",
       "Name: user_type, dtype: int64"
      ]
     },
     "execution_count": 9,
     "metadata": {},
     "output_type": "execute_result"
    }
   ],
   "source": [
    "df['user_type'].value_counts()"
   ]
  },
  {
   "cell_type": "markdown",
   "metadata": {},
   "source": [
    "All users that want shared rides are subscribers"
   ]
  },
  {
   "cell_type": "code",
   "execution_count": 10,
   "metadata": {},
   "outputs": [
    {
     "data": {
      "text/plain": [
       "Male      13111\n",
       "Female     3600\n",
       "Other       648\n",
       "Name: member_gender, dtype: int64"
      ]
     },
     "execution_count": 10,
     "metadata": {},
     "output_type": "execute_result"
    }
   ],
   "source": [
    "df['member_gender'].value_counts()"
   ]
  },
  {
   "cell_type": "code",
   "execution_count": 11,
   "metadata": {},
   "outputs": [
    {
     "data": {
      "text/plain": [
       "(17359, 16)"
      ]
     },
     "execution_count": 11,
     "metadata": {},
     "output_type": "execute_result"
    }
   ],
   "source": [
    "df.shape"
   ]
  },
  {
   "cell_type": "code",
   "execution_count": 12,
   "metadata": {
    "scrolled": true
   },
   "outputs": [
    {
     "name": "stdout",
     "output_type": "stream",
     "text": [
      "<class 'pandas.core.frame.DataFrame'>\n",
      "Int64Index: 17359 entries, 4 to 183409\n",
      "Data columns (total 16 columns):\n",
      "duration_sec               17359 non-null int64\n",
      "start_time                 17359 non-null object\n",
      "end_time                   17359 non-null object\n",
      "start_station_id           17346 non-null float64\n",
      "start_station_name         17346 non-null object\n",
      "start_station_latitude     17359 non-null float64\n",
      "start_station_longitude    17359 non-null float64\n",
      "end_station_id             17346 non-null float64\n",
      "end_station_name           17346 non-null object\n",
      "end_station_latitude       17359 non-null float64\n",
      "end_station_longitude      17359 non-null float64\n",
      "bike_id                    17359 non-null int64\n",
      "user_type                  17359 non-null object\n",
      "member_birth_year          17359 non-null float64\n",
      "member_gender              17359 non-null object\n",
      "bike_share_for_all_trip    17359 non-null object\n",
      "dtypes: float64(7), int64(2), object(7)\n",
      "memory usage: 2.3+ MB\n"
     ]
    }
   ],
   "source": [
    "df.info()"
   ]
  },
  {
   "cell_type": "markdown",
   "metadata": {},
   "source": [
    "No info on start station for some users"
   ]
  },
  {
   "cell_type": "code",
   "execution_count": 13,
   "metadata": {
    "scrolled": true
   },
   "outputs": [
    {
     "name": "stdout",
     "output_type": "stream",
     "text": [
      "<class 'pandas.core.frame.DataFrame'>\n",
      "Int64Index: 17359 entries, 4 to 183409\n",
      "Data columns (total 16 columns):\n",
      "duration_sec               17359 non-null int64\n",
      "start_time                 17359 non-null datetime64[ns]\n",
      "end_time                   17359 non-null datetime64[ns]\n",
      "start_station_id           17346 non-null float64\n",
      "start_station_name         17346 non-null object\n",
      "start_station_latitude     17359 non-null float64\n",
      "start_station_longitude    17359 non-null float64\n",
      "end_station_id             17346 non-null float64\n",
      "end_station_name           17346 non-null object\n",
      "end_station_latitude       17359 non-null float64\n",
      "end_station_longitude      17359 non-null float64\n",
      "bike_id                    17359 non-null int64\n",
      "user_type                  17359 non-null object\n",
      "member_birth_year          17359 non-null float64\n",
      "member_gender              17359 non-null object\n",
      "bike_share_for_all_trip    17359 non-null object\n",
      "dtypes: datetime64[ns](2), float64(7), int64(2), object(5)\n",
      "memory usage: 2.3+ MB\n"
     ]
    },
    {
     "name": "stderr",
     "output_type": "stream",
     "text": [
      "/opt/conda/lib/python3.6/site-packages/ipykernel_launcher.py:2: SettingWithCopyWarning: \n",
      "A value is trying to be set on a copy of a slice from a DataFrame.\n",
      "Try using .loc[row_indexer,col_indexer] = value instead\n",
      "\n",
      "See the caveats in the documentation: http://pandas.pydata.org/pandas-docs/stable/indexing.html#indexing-view-versus-copy\n",
      "  \n",
      "/opt/conda/lib/python3.6/site-packages/ipykernel_launcher.py:3: SettingWithCopyWarning: \n",
      "A value is trying to be set on a copy of a slice from a DataFrame.\n",
      "Try using .loc[row_indexer,col_indexer] = value instead\n",
      "\n",
      "See the caveats in the documentation: http://pandas.pydata.org/pandas-docs/stable/indexing.html#indexing-view-versus-copy\n",
      "  This is separate from the ipykernel package so we can avoid doing imports until\n"
     ]
    }
   ],
   "source": [
    "#change datatype of start_time and end_time columns\n",
    "df['start_time'] = pd.to_datetime(df['start_time'])\n",
    "df['end_time'] = pd.to_datetime(df['end_time'])\n",
    "df.info()"
   ]
  },
  {
   "cell_type": "code",
   "execution_count": 14,
   "metadata": {
    "scrolled": true
   },
   "outputs": [
    {
     "data": {
      "text/html": [
       "<div>\n",
       "<style scoped>\n",
       "    .dataframe tbody tr th:only-of-type {\n",
       "        vertical-align: middle;\n",
       "    }\n",
       "\n",
       "    .dataframe tbody tr th {\n",
       "        vertical-align: top;\n",
       "    }\n",
       "\n",
       "    .dataframe thead th {\n",
       "        text-align: right;\n",
       "    }\n",
       "</style>\n",
       "<table border=\"1\" class=\"dataframe\">\n",
       "  <thead>\n",
       "    <tr style=\"text-align: right;\">\n",
       "      <th></th>\n",
       "      <th>duration_sec</th>\n",
       "      <th>start_time</th>\n",
       "      <th>end_time</th>\n",
       "      <th>start_station_id</th>\n",
       "      <th>start_station_name</th>\n",
       "      <th>start_station_latitude</th>\n",
       "      <th>start_station_longitude</th>\n",
       "      <th>end_station_id</th>\n",
       "      <th>end_station_name</th>\n",
       "      <th>end_station_latitude</th>\n",
       "      <th>end_station_longitude</th>\n",
       "      <th>bike_id</th>\n",
       "      <th>user_type</th>\n",
       "      <th>member_birth_year</th>\n",
       "      <th>member_gender</th>\n",
       "      <th>bike_share_for_all_trip</th>\n",
       "    </tr>\n",
       "  </thead>\n",
       "  <tbody>\n",
       "    <tr>\n",
       "      <th>4070</th>\n",
       "      <td>585</td>\n",
       "      <td>2019-02-28 16:28:45.934</td>\n",
       "      <td>2019-02-28 16:38:31.332</td>\n",
       "      <td>NaN</td>\n",
       "      <td>NaN</td>\n",
       "      <td>37.39</td>\n",
       "      <td>-121.93</td>\n",
       "      <td>NaN</td>\n",
       "      <td>NaN</td>\n",
       "      <td>37.40</td>\n",
       "      <td>-121.92</td>\n",
       "      <td>4089</td>\n",
       "      <td>Subscriber</td>\n",
       "      <td>1984.0</td>\n",
       "      <td>Male</td>\n",
       "      <td>Yes</td>\n",
       "    </tr>\n",
       "    <tr>\n",
       "      <th>5654</th>\n",
       "      <td>509</td>\n",
       "      <td>2019-02-28 12:30:17.131</td>\n",
       "      <td>2019-02-28 12:38:46.329</td>\n",
       "      <td>NaN</td>\n",
       "      <td>NaN</td>\n",
       "      <td>37.40</td>\n",
       "      <td>-121.92</td>\n",
       "      <td>NaN</td>\n",
       "      <td>NaN</td>\n",
       "      <td>37.39</td>\n",
       "      <td>-121.93</td>\n",
       "      <td>4089</td>\n",
       "      <td>Subscriber</td>\n",
       "      <td>1984.0</td>\n",
       "      <td>Male</td>\n",
       "      <td>Yes</td>\n",
       "    </tr>\n",
       "    <tr>\n",
       "      <th>13945</th>\n",
       "      <td>399</td>\n",
       "      <td>2019-02-27 14:06:51.772</td>\n",
       "      <td>2019-02-27 14:13:31.672</td>\n",
       "      <td>NaN</td>\n",
       "      <td>NaN</td>\n",
       "      <td>37.41</td>\n",
       "      <td>-121.95</td>\n",
       "      <td>NaN</td>\n",
       "      <td>NaN</td>\n",
       "      <td>37.41</td>\n",
       "      <td>-121.96</td>\n",
       "      <td>3975</td>\n",
       "      <td>Subscriber</td>\n",
       "      <td>1995.0</td>\n",
       "      <td>Male</td>\n",
       "      <td>Yes</td>\n",
       "    </tr>\n",
       "    <tr>\n",
       "      <th>14073</th>\n",
       "      <td>402</td>\n",
       "      <td>2019-02-27 13:37:01.864</td>\n",
       "      <td>2019-02-27 13:43:44.360</td>\n",
       "      <td>NaN</td>\n",
       "      <td>NaN</td>\n",
       "      <td>37.41</td>\n",
       "      <td>-121.95</td>\n",
       "      <td>NaN</td>\n",
       "      <td>NaN</td>\n",
       "      <td>37.41</td>\n",
       "      <td>-121.95</td>\n",
       "      <td>3975</td>\n",
       "      <td>Subscriber</td>\n",
       "      <td>1995.0</td>\n",
       "      <td>Male</td>\n",
       "      <td>Yes</td>\n",
       "    </tr>\n",
       "    <tr>\n",
       "      <th>24429</th>\n",
       "      <td>806</td>\n",
       "      <td>2019-02-25 18:11:33.034</td>\n",
       "      <td>2019-02-25 18:24:59.531</td>\n",
       "      <td>NaN</td>\n",
       "      <td>NaN</td>\n",
       "      <td>37.41</td>\n",
       "      <td>-121.94</td>\n",
       "      <td>NaN</td>\n",
       "      <td>NaN</td>\n",
       "      <td>37.41</td>\n",
       "      <td>-121.94</td>\n",
       "      <td>4189</td>\n",
       "      <td>Subscriber</td>\n",
       "      <td>1994.0</td>\n",
       "      <td>Female</td>\n",
       "      <td>Yes</td>\n",
       "    </tr>\n",
       "    <tr>\n",
       "      <th>36241</th>\n",
       "      <td>170</td>\n",
       "      <td>2019-02-23 16:44:30.435</td>\n",
       "      <td>2019-02-23 16:47:20.633</td>\n",
       "      <td>NaN</td>\n",
       "      <td>NaN</td>\n",
       "      <td>37.41</td>\n",
       "      <td>-121.95</td>\n",
       "      <td>NaN</td>\n",
       "      <td>NaN</td>\n",
       "      <td>37.41</td>\n",
       "      <td>-121.96</td>\n",
       "      <td>4283</td>\n",
       "      <td>Subscriber</td>\n",
       "      <td>1994.0</td>\n",
       "      <td>Female</td>\n",
       "      <td>Yes</td>\n",
       "    </tr>\n",
       "    <tr>\n",
       "      <th>46229</th>\n",
       "      <td>411</td>\n",
       "      <td>2019-02-22 10:05:15.468</td>\n",
       "      <td>2019-02-22 10:12:07.129</td>\n",
       "      <td>NaN</td>\n",
       "      <td>NaN</td>\n",
       "      <td>37.40</td>\n",
       "      <td>-121.94</td>\n",
       "      <td>NaN</td>\n",
       "      <td>NaN</td>\n",
       "      <td>37.40</td>\n",
       "      <td>-121.95</td>\n",
       "      <td>4162</td>\n",
       "      <td>Subscriber</td>\n",
       "      <td>1990.0</td>\n",
       "      <td>Female</td>\n",
       "      <td>Yes</td>\n",
       "    </tr>\n",
       "    <tr>\n",
       "      <th>55542</th>\n",
       "      <td>235</td>\n",
       "      <td>2019-02-21 10:02:11.532</td>\n",
       "      <td>2019-02-21 10:06:07.131</td>\n",
       "      <td>NaN</td>\n",
       "      <td>NaN</td>\n",
       "      <td>37.39</td>\n",
       "      <td>-121.93</td>\n",
       "      <td>NaN</td>\n",
       "      <td>NaN</td>\n",
       "      <td>37.39</td>\n",
       "      <td>-121.93</td>\n",
       "      <td>4249</td>\n",
       "      <td>Subscriber</td>\n",
       "      <td>1994.0</td>\n",
       "      <td>Male</td>\n",
       "      <td>Yes</td>\n",
       "    </tr>\n",
       "    <tr>\n",
       "      <th>106166</th>\n",
       "      <td>216</td>\n",
       "      <td>2019-02-13 18:47:22.967</td>\n",
       "      <td>2019-02-13 18:50:59.807</td>\n",
       "      <td>NaN</td>\n",
       "      <td>NaN</td>\n",
       "      <td>37.42</td>\n",
       "      <td>-121.94</td>\n",
       "      <td>NaN</td>\n",
       "      <td>NaN</td>\n",
       "      <td>37.42</td>\n",
       "      <td>-121.94</td>\n",
       "      <td>4162</td>\n",
       "      <td>Subscriber</td>\n",
       "      <td>2000.0</td>\n",
       "      <td>Female</td>\n",
       "      <td>Yes</td>\n",
       "    </tr>\n",
       "    <tr>\n",
       "      <th>110257</th>\n",
       "      <td>100</td>\n",
       "      <td>2019-02-12 18:14:05.926</td>\n",
       "      <td>2019-02-12 18:15:46.667</td>\n",
       "      <td>NaN</td>\n",
       "      <td>NaN</td>\n",
       "      <td>37.42</td>\n",
       "      <td>-121.94</td>\n",
       "      <td>NaN</td>\n",
       "      <td>NaN</td>\n",
       "      <td>37.42</td>\n",
       "      <td>-121.94</td>\n",
       "      <td>4162</td>\n",
       "      <td>Subscriber</td>\n",
       "      <td>1999.0</td>\n",
       "      <td>Male</td>\n",
       "      <td>Yes</td>\n",
       "    </tr>\n",
       "    <tr>\n",
       "      <th>144928</th>\n",
       "      <td>349</td>\n",
       "      <td>2019-02-07 10:39:21.024</td>\n",
       "      <td>2019-02-07 10:45:10.385</td>\n",
       "      <td>NaN</td>\n",
       "      <td>NaN</td>\n",
       "      <td>37.42</td>\n",
       "      <td>-121.94</td>\n",
       "      <td>NaN</td>\n",
       "      <td>NaN</td>\n",
       "      <td>37.41</td>\n",
       "      <td>-121.95</td>\n",
       "      <td>4157</td>\n",
       "      <td>Subscriber</td>\n",
       "      <td>2000.0</td>\n",
       "      <td>Female</td>\n",
       "      <td>Yes</td>\n",
       "    </tr>\n",
       "    <tr>\n",
       "      <th>152178</th>\n",
       "      <td>366</td>\n",
       "      <td>2019-02-06 16:20:37.102</td>\n",
       "      <td>2019-02-06 16:26:43.165</td>\n",
       "      <td>NaN</td>\n",
       "      <td>NaN</td>\n",
       "      <td>37.41</td>\n",
       "      <td>-121.95</td>\n",
       "      <td>NaN</td>\n",
       "      <td>NaN</td>\n",
       "      <td>37.42</td>\n",
       "      <td>-121.94</td>\n",
       "      <td>4157</td>\n",
       "      <td>Subscriber</td>\n",
       "      <td>2000.0</td>\n",
       "      <td>Female</td>\n",
       "      <td>Yes</td>\n",
       "    </tr>\n",
       "    <tr>\n",
       "      <th>174807</th>\n",
       "      <td>8209</td>\n",
       "      <td>2019-02-02 14:26:59.965</td>\n",
       "      <td>2019-02-02 16:43:49.518</td>\n",
       "      <td>NaN</td>\n",
       "      <td>NaN</td>\n",
       "      <td>37.40</td>\n",
       "      <td>-121.93</td>\n",
       "      <td>NaN</td>\n",
       "      <td>NaN</td>\n",
       "      <td>37.41</td>\n",
       "      <td>-121.94</td>\n",
       "      <td>4249</td>\n",
       "      <td>Subscriber</td>\n",
       "      <td>1993.0</td>\n",
       "      <td>Male</td>\n",
       "      <td>Yes</td>\n",
       "    </tr>\n",
       "  </tbody>\n",
       "</table>\n",
       "</div>"
      ],
      "text/plain": [
       "        duration_sec              start_time                end_time  \\\n",
       "4070             585 2019-02-28 16:28:45.934 2019-02-28 16:38:31.332   \n",
       "5654             509 2019-02-28 12:30:17.131 2019-02-28 12:38:46.329   \n",
       "13945            399 2019-02-27 14:06:51.772 2019-02-27 14:13:31.672   \n",
       "14073            402 2019-02-27 13:37:01.864 2019-02-27 13:43:44.360   \n",
       "24429            806 2019-02-25 18:11:33.034 2019-02-25 18:24:59.531   \n",
       "36241            170 2019-02-23 16:44:30.435 2019-02-23 16:47:20.633   \n",
       "46229            411 2019-02-22 10:05:15.468 2019-02-22 10:12:07.129   \n",
       "55542            235 2019-02-21 10:02:11.532 2019-02-21 10:06:07.131   \n",
       "106166           216 2019-02-13 18:47:22.967 2019-02-13 18:50:59.807   \n",
       "110257           100 2019-02-12 18:14:05.926 2019-02-12 18:15:46.667   \n",
       "144928           349 2019-02-07 10:39:21.024 2019-02-07 10:45:10.385   \n",
       "152178           366 2019-02-06 16:20:37.102 2019-02-06 16:26:43.165   \n",
       "174807          8209 2019-02-02 14:26:59.965 2019-02-02 16:43:49.518   \n",
       "\n",
       "        start_station_id start_station_name  start_station_latitude  \\\n",
       "4070                 NaN                NaN                   37.39   \n",
       "5654                 NaN                NaN                   37.40   \n",
       "13945                NaN                NaN                   37.41   \n",
       "14073                NaN                NaN                   37.41   \n",
       "24429                NaN                NaN                   37.41   \n",
       "36241                NaN                NaN                   37.41   \n",
       "46229                NaN                NaN                   37.40   \n",
       "55542                NaN                NaN                   37.39   \n",
       "106166               NaN                NaN                   37.42   \n",
       "110257               NaN                NaN                   37.42   \n",
       "144928               NaN                NaN                   37.42   \n",
       "152178               NaN                NaN                   37.41   \n",
       "174807               NaN                NaN                   37.40   \n",
       "\n",
       "        start_station_longitude  end_station_id end_station_name  \\\n",
       "4070                    -121.93             NaN              NaN   \n",
       "5654                    -121.92             NaN              NaN   \n",
       "13945                   -121.95             NaN              NaN   \n",
       "14073                   -121.95             NaN              NaN   \n",
       "24429                   -121.94             NaN              NaN   \n",
       "36241                   -121.95             NaN              NaN   \n",
       "46229                   -121.94             NaN              NaN   \n",
       "55542                   -121.93             NaN              NaN   \n",
       "106166                  -121.94             NaN              NaN   \n",
       "110257                  -121.94             NaN              NaN   \n",
       "144928                  -121.94             NaN              NaN   \n",
       "152178                  -121.95             NaN              NaN   \n",
       "174807                  -121.93             NaN              NaN   \n",
       "\n",
       "        end_station_latitude  end_station_longitude  bike_id   user_type  \\\n",
       "4070                   37.40                -121.92     4089  Subscriber   \n",
       "5654                   37.39                -121.93     4089  Subscriber   \n",
       "13945                  37.41                -121.96     3975  Subscriber   \n",
       "14073                  37.41                -121.95     3975  Subscriber   \n",
       "24429                  37.41                -121.94     4189  Subscriber   \n",
       "36241                  37.41                -121.96     4283  Subscriber   \n",
       "46229                  37.40                -121.95     4162  Subscriber   \n",
       "55542                  37.39                -121.93     4249  Subscriber   \n",
       "106166                 37.42                -121.94     4162  Subscriber   \n",
       "110257                 37.42                -121.94     4162  Subscriber   \n",
       "144928                 37.41                -121.95     4157  Subscriber   \n",
       "152178                 37.42                -121.94     4157  Subscriber   \n",
       "174807                 37.41                -121.94     4249  Subscriber   \n",
       "\n",
       "        member_birth_year member_gender bike_share_for_all_trip  \n",
       "4070               1984.0          Male                     Yes  \n",
       "5654               1984.0          Male                     Yes  \n",
       "13945              1995.0          Male                     Yes  \n",
       "14073              1995.0          Male                     Yes  \n",
       "24429              1994.0        Female                     Yes  \n",
       "36241              1994.0        Female                     Yes  \n",
       "46229              1990.0        Female                     Yes  \n",
       "55542              1994.0          Male                     Yes  \n",
       "106166             2000.0        Female                     Yes  \n",
       "110257             1999.0          Male                     Yes  \n",
       "144928             2000.0        Female                     Yes  \n",
       "152178             2000.0        Female                     Yes  \n",
       "174807             1993.0          Male                     Yes  "
      ]
     },
     "execution_count": 14,
     "metadata": {},
     "output_type": "execute_result"
    }
   ],
   "source": [
    "#check data without info of start station\n",
    "df[df['start_station_id'].isnull()]"
   ]
  },
  {
   "cell_type": "code",
   "execution_count": 15,
   "metadata": {
    "scrolled": true
   },
   "outputs": [
    {
     "name": "stdout",
     "output_type": "stream",
     "text": [
      "<class 'pandas.core.frame.DataFrame'>\n",
      "Int64Index: 17346 entries, 4 to 183409\n",
      "Data columns (total 16 columns):\n",
      "duration_sec               17346 non-null int64\n",
      "start_time                 17346 non-null datetime64[ns]\n",
      "end_time                   17346 non-null datetime64[ns]\n",
      "start_station_id           17346 non-null float64\n",
      "start_station_name         17346 non-null object\n",
      "start_station_latitude     17346 non-null float64\n",
      "start_station_longitude    17346 non-null float64\n",
      "end_station_id             17346 non-null float64\n",
      "end_station_name           17346 non-null object\n",
      "end_station_latitude       17346 non-null float64\n",
      "end_station_longitude      17346 non-null float64\n",
      "bike_id                    17346 non-null int64\n",
      "user_type                  17346 non-null object\n",
      "member_birth_year          17346 non-null float64\n",
      "member_gender              17346 non-null object\n",
      "bike_share_for_all_trip    17346 non-null object\n",
      "dtypes: datetime64[ns](2), float64(7), int64(2), object(5)\n",
      "memory usage: 2.2+ MB\n"
     ]
    },
    {
     "name": "stderr",
     "output_type": "stream",
     "text": [
      "/opt/conda/lib/python3.6/site-packages/pandas/core/frame.py:3697: SettingWithCopyWarning: \n",
      "A value is trying to be set on a copy of a slice from a DataFrame\n",
      "\n",
      "See the caveats in the documentation: http://pandas.pydata.org/pandas-docs/stable/indexing.html#indexing-view-versus-copy\n",
      "  errors=errors)\n"
     ]
    }
   ],
   "source": [
    "#drop rows that don't have info on start station\n",
    "df_null_index = df[df['start_station_id'].isnull()].index\n",
    "df.drop(df_null_index, inplace = True)\n",
    "df.info()"
   ]
  },
  {
   "cell_type": "code",
   "execution_count": 16,
   "metadata": {
    "scrolled": true
   },
   "outputs": [
    {
     "data": {
      "text/html": [
       "<div>\n",
       "<style scoped>\n",
       "    .dataframe tbody tr th:only-of-type {\n",
       "        vertical-align: middle;\n",
       "    }\n",
       "\n",
       "    .dataframe tbody tr th {\n",
       "        vertical-align: top;\n",
       "    }\n",
       "\n",
       "    .dataframe thead th {\n",
       "        text-align: right;\n",
       "    }\n",
       "</style>\n",
       "<table border=\"1\" class=\"dataframe\">\n",
       "  <thead>\n",
       "    <tr style=\"text-align: right;\">\n",
       "      <th></th>\n",
       "      <th>duration_sec</th>\n",
       "      <th>start_station_id</th>\n",
       "      <th>start_station_latitude</th>\n",
       "      <th>start_station_longitude</th>\n",
       "      <th>end_station_id</th>\n",
       "      <th>end_station_latitude</th>\n",
       "      <th>end_station_longitude</th>\n",
       "      <th>bike_id</th>\n",
       "      <th>member_birth_year</th>\n",
       "    </tr>\n",
       "  </thead>\n",
       "  <tbody>\n",
       "    <tr>\n",
       "      <th>count</th>\n",
       "      <td>17346.000000</td>\n",
       "      <td>17346.000000</td>\n",
       "      <td>17346.000000</td>\n",
       "      <td>17346.000000</td>\n",
       "      <td>17346.000000</td>\n",
       "      <td>17346.000000</td>\n",
       "      <td>17346.000000</td>\n",
       "      <td>17346.000000</td>\n",
       "      <td>17346.000000</td>\n",
       "    </tr>\n",
       "    <tr>\n",
       "      <th>mean</th>\n",
       "      <td>683.997521</td>\n",
       "      <td>215.680387</td>\n",
       "      <td>37.642773</td>\n",
       "      <td>-122.175309</td>\n",
       "      <td>215.408740</td>\n",
       "      <td>37.642748</td>\n",
       "      <td>-122.175563</td>\n",
       "      <td>4378.728525</td>\n",
       "      <td>1986.505419</td>\n",
       "    </tr>\n",
       "    <tr>\n",
       "      <th>std</th>\n",
       "      <td>1600.126359</td>\n",
       "      <td>105.776368</td>\n",
       "      <td>0.231886</td>\n",
       "      <td>0.221736</td>\n",
       "      <td>105.653995</td>\n",
       "      <td>0.231700</td>\n",
       "      <td>0.221877</td>\n",
       "      <td>1539.434135</td>\n",
       "      <td>12.446377</td>\n",
       "    </tr>\n",
       "    <tr>\n",
       "      <th>min</th>\n",
       "      <td>61.000000</td>\n",
       "      <td>3.000000</td>\n",
       "      <td>37.317298</td>\n",
       "      <td>-122.453704</td>\n",
       "      <td>3.000000</td>\n",
       "      <td>37.317298</td>\n",
       "      <td>-122.453704</td>\n",
       "      <td>12.000000</td>\n",
       "      <td>1900.000000</td>\n",
       "    </tr>\n",
       "    <tr>\n",
       "      <th>25%</th>\n",
       "      <td>280.000000</td>\n",
       "      <td>129.000000</td>\n",
       "      <td>37.337122</td>\n",
       "      <td>-122.398285</td>\n",
       "      <td>129.000000</td>\n",
       "      <td>37.337122</td>\n",
       "      <td>-122.397437</td>\n",
       "      <td>3828.000000</td>\n",
       "      <td>1980.000000</td>\n",
       "    </tr>\n",
       "    <tr>\n",
       "      <th>50%</th>\n",
       "      <td>438.000000</td>\n",
       "      <td>249.000000</td>\n",
       "      <td>37.776513</td>\n",
       "      <td>-122.260553</td>\n",
       "      <td>249.000000</td>\n",
       "      <td>37.776513</td>\n",
       "      <td>-122.261928</td>\n",
       "      <td>4646.000000</td>\n",
       "      <td>1992.000000</td>\n",
       "    </tr>\n",
       "    <tr>\n",
       "      <th>75%</th>\n",
       "      <td>702.000000</td>\n",
       "      <td>296.000000</td>\n",
       "      <td>37.819381</td>\n",
       "      <td>-121.892844</td>\n",
       "      <td>296.000000</td>\n",
       "      <td>37.819381</td>\n",
       "      <td>-121.892844</td>\n",
       "      <td>5413.000000</td>\n",
       "      <td>1995.000000</td>\n",
       "    </tr>\n",
       "    <tr>\n",
       "      <th>max</th>\n",
       "      <td>83195.000000</td>\n",
       "      <td>398.000000</td>\n",
       "      <td>37.880222</td>\n",
       "      <td>-121.874119</td>\n",
       "      <td>389.000000</td>\n",
       "      <td>37.880222</td>\n",
       "      <td>-121.874119</td>\n",
       "      <td>6645.000000</td>\n",
       "      <td>2000.000000</td>\n",
       "    </tr>\n",
       "  </tbody>\n",
       "</table>\n",
       "</div>"
      ],
      "text/plain": [
       "       duration_sec  start_station_id  start_station_latitude  \\\n",
       "count  17346.000000      17346.000000            17346.000000   \n",
       "mean     683.997521        215.680387               37.642773   \n",
       "std     1600.126359        105.776368                0.231886   \n",
       "min       61.000000          3.000000               37.317298   \n",
       "25%      280.000000        129.000000               37.337122   \n",
       "50%      438.000000        249.000000               37.776513   \n",
       "75%      702.000000        296.000000               37.819381   \n",
       "max    83195.000000        398.000000               37.880222   \n",
       "\n",
       "       start_station_longitude  end_station_id  end_station_latitude  \\\n",
       "count             17346.000000    17346.000000          17346.000000   \n",
       "mean               -122.175309      215.408740             37.642748   \n",
       "std                   0.221736      105.653995              0.231700   \n",
       "min                -122.453704        3.000000             37.317298   \n",
       "25%                -122.398285      129.000000             37.337122   \n",
       "50%                -122.260553      249.000000             37.776513   \n",
       "75%                -121.892844      296.000000             37.819381   \n",
       "max                -121.874119      389.000000             37.880222   \n",
       "\n",
       "       end_station_longitude       bike_id  member_birth_year  \n",
       "count           17346.000000  17346.000000       17346.000000  \n",
       "mean             -122.175563   4378.728525        1986.505419  \n",
       "std                 0.221877   1539.434135          12.446377  \n",
       "min              -122.453704     12.000000        1900.000000  \n",
       "25%              -122.397437   3828.000000        1980.000000  \n",
       "50%              -122.261928   4646.000000        1992.000000  \n",
       "75%              -121.892844   5413.000000        1995.000000  \n",
       "max              -121.874119   6645.000000        2000.000000  "
      ]
     },
     "execution_count": 16,
     "metadata": {},
     "output_type": "execute_result"
    }
   ],
   "source": [
    "df.describe()"
   ]
  },
  {
   "cell_type": "markdown",
   "metadata": {},
   "source": [
    "### What is the structure of your dataset?\n",
    "\n",
    "> The dataset initially had 183,412 rows and 16 columns but I streamlined it into a datasef with 17,359 rows and 16 columns.\n",
    "\n",
    "### What is/are the main feature(s) of interest in your dataset?\n",
    "\n",
    "> The main feature of interest is to consider different factors to aid planning of effective bike sharing.\n",
    "\n",
    "### What features in the dataset do you think will help support your investigation into your feature(s) of interest?\n",
    "\n",
    "> We have filtered the bike_share_for_all_trip column to find out users that are willing to share rides. We shall examine the other features of these users. Features that might help with the exploration are:\n",
    "1. user_type column: number of users(subscribers) to plan for leaving reservation for additions(to get more users that might be willing to share rides)\n",
    "2. member_birth_year: age range of users\n",
    "3. member_gender: gender of users (some people might only be comfortable sharing rides with a specific gender)\n",
    "4. duration_sec\tcolumn: average duration of rides for different classes of riders in the dataset\n",
    "5. start_time & start_station_name columns: average time most riders start their rides, most populated start station; more riders might be needed in these locations and time"
   ]
  },
  {
   "cell_type": "markdown",
   "metadata": {},
   "source": [
    "## Univariate Exploration\n",
    "\n"
   ]
  },
  {
   "cell_type": "code",
   "execution_count": 17,
   "metadata": {},
   "outputs": [
    {
     "data": {
      "text/html": [
       "<div>\n",
       "<style scoped>\n",
       "    .dataframe tbody tr th:only-of-type {\n",
       "        vertical-align: middle;\n",
       "    }\n",
       "\n",
       "    .dataframe tbody tr th {\n",
       "        vertical-align: top;\n",
       "    }\n",
       "\n",
       "    .dataframe thead th {\n",
       "        text-align: right;\n",
       "    }\n",
       "</style>\n",
       "<table border=\"1\" class=\"dataframe\">\n",
       "  <thead>\n",
       "    <tr style=\"text-align: right;\">\n",
       "      <th></th>\n",
       "      <th>duration_sec</th>\n",
       "      <th>start_time</th>\n",
       "      <th>end_time</th>\n",
       "      <th>start_station_id</th>\n",
       "      <th>start_station_name</th>\n",
       "      <th>start_station_latitude</th>\n",
       "      <th>start_station_longitude</th>\n",
       "      <th>end_station_id</th>\n",
       "      <th>end_station_name</th>\n",
       "      <th>end_station_latitude</th>\n",
       "      <th>end_station_longitude</th>\n",
       "      <th>bike_id</th>\n",
       "      <th>user_type</th>\n",
       "      <th>member_birth_year</th>\n",
       "      <th>member_gender</th>\n",
       "      <th>bike_share_for_all_trip</th>\n",
       "    </tr>\n",
       "  </thead>\n",
       "  <tbody>\n",
       "    <tr>\n",
       "      <th>4</th>\n",
       "      <td>1585</td>\n",
       "      <td>2019-02-28 23:54:18.549</td>\n",
       "      <td>2019-03-01 00:20:44.074</td>\n",
       "      <td>7.0</td>\n",
       "      <td>Frank H Ogawa Plaza</td>\n",
       "      <td>37.804562</td>\n",
       "      <td>-122.271738</td>\n",
       "      <td>222.0</td>\n",
       "      <td>10th Ave at E 15th St</td>\n",
       "      <td>37.792714</td>\n",
       "      <td>-122.248780</td>\n",
       "      <td>4898</td>\n",
       "      <td>Subscriber</td>\n",
       "      <td>1974.0</td>\n",
       "      <td>Male</td>\n",
       "      <td>Yes</td>\n",
       "    </tr>\n",
       "    <tr>\n",
       "      <th>10</th>\n",
       "      <td>458</td>\n",
       "      <td>2019-02-28 23:57:57.211</td>\n",
       "      <td>2019-03-01 00:05:35.435</td>\n",
       "      <td>370.0</td>\n",
       "      <td>Jones St at Post St</td>\n",
       "      <td>37.787327</td>\n",
       "      <td>-122.413278</td>\n",
       "      <td>43.0</td>\n",
       "      <td>San Francisco Public Library (Grove St at Hyde...</td>\n",
       "      <td>37.778768</td>\n",
       "      <td>-122.415929</td>\n",
       "      <td>5318</td>\n",
       "      <td>Subscriber</td>\n",
       "      <td>1996.0</td>\n",
       "      <td>Female</td>\n",
       "      <td>Yes</td>\n",
       "    </tr>\n",
       "    <tr>\n",
       "      <th>15</th>\n",
       "      <td>208</td>\n",
       "      <td>2019-02-28 23:59:18.548</td>\n",
       "      <td>2019-03-01 00:02:47.228</td>\n",
       "      <td>349.0</td>\n",
       "      <td>Howard St at Mary St</td>\n",
       "      <td>37.781010</td>\n",
       "      <td>-122.405666</td>\n",
       "      <td>60.0</td>\n",
       "      <td>8th St at Ringold St</td>\n",
       "      <td>37.774520</td>\n",
       "      <td>-122.409449</td>\n",
       "      <td>6361</td>\n",
       "      <td>Subscriber</td>\n",
       "      <td>1993.0</td>\n",
       "      <td>Male</td>\n",
       "      <td>Yes</td>\n",
       "    </tr>\n",
       "    <tr>\n",
       "      <th>21</th>\n",
       "      <td>414</td>\n",
       "      <td>2019-02-28 23:50:26.879</td>\n",
       "      <td>2019-02-28 23:57:21.130</td>\n",
       "      <td>163.0</td>\n",
       "      <td>Lake Merritt BART Station</td>\n",
       "      <td>37.797320</td>\n",
       "      <td>-122.265320</td>\n",
       "      <td>221.0</td>\n",
       "      <td>6th Ave at E 12th St (Temporary Location)</td>\n",
       "      <td>37.794396</td>\n",
       "      <td>-122.253842</td>\n",
       "      <td>6007</td>\n",
       "      <td>Subscriber</td>\n",
       "      <td>1984.0</td>\n",
       "      <td>Male</td>\n",
       "      <td>Yes</td>\n",
       "    </tr>\n",
       "    <tr>\n",
       "      <th>30</th>\n",
       "      <td>163</td>\n",
       "      <td>2019-02-28 23:50:45.698</td>\n",
       "      <td>2019-02-28 23:53:29.569</td>\n",
       "      <td>238.0</td>\n",
       "      <td>MLK Jr Way at University Ave</td>\n",
       "      <td>37.871719</td>\n",
       "      <td>-122.273068</td>\n",
       "      <td>244.0</td>\n",
       "      <td>Shattuck Ave at Hearst Ave</td>\n",
       "      <td>37.873676</td>\n",
       "      <td>-122.268487</td>\n",
       "      <td>5669</td>\n",
       "      <td>Subscriber</td>\n",
       "      <td>1996.0</td>\n",
       "      <td>Male</td>\n",
       "      <td>Yes</td>\n",
       "    </tr>\n",
       "  </tbody>\n",
       "</table>\n",
       "</div>"
      ],
      "text/plain": [
       "    duration_sec              start_time                end_time  \\\n",
       "4           1585 2019-02-28 23:54:18.549 2019-03-01 00:20:44.074   \n",
       "10           458 2019-02-28 23:57:57.211 2019-03-01 00:05:35.435   \n",
       "15           208 2019-02-28 23:59:18.548 2019-03-01 00:02:47.228   \n",
       "21           414 2019-02-28 23:50:26.879 2019-02-28 23:57:21.130   \n",
       "30           163 2019-02-28 23:50:45.698 2019-02-28 23:53:29.569   \n",
       "\n",
       "    start_station_id            start_station_name  start_station_latitude  \\\n",
       "4                7.0           Frank H Ogawa Plaza               37.804562   \n",
       "10             370.0           Jones St at Post St               37.787327   \n",
       "15             349.0          Howard St at Mary St               37.781010   \n",
       "21             163.0     Lake Merritt BART Station               37.797320   \n",
       "30             238.0  MLK Jr Way at University Ave               37.871719   \n",
       "\n",
       "    start_station_longitude  end_station_id  \\\n",
       "4               -122.271738           222.0   \n",
       "10              -122.413278            43.0   \n",
       "15              -122.405666            60.0   \n",
       "21              -122.265320           221.0   \n",
       "30              -122.273068           244.0   \n",
       "\n",
       "                                     end_station_name  end_station_latitude  \\\n",
       "4                               10th Ave at E 15th St             37.792714   \n",
       "10  San Francisco Public Library (Grove St at Hyde...             37.778768   \n",
       "15                               8th St at Ringold St             37.774520   \n",
       "21          6th Ave at E 12th St (Temporary Location)             37.794396   \n",
       "30                         Shattuck Ave at Hearst Ave             37.873676   \n",
       "\n",
       "    end_station_longitude  bike_id   user_type  member_birth_year  \\\n",
       "4             -122.248780     4898  Subscriber             1974.0   \n",
       "10            -122.415929     5318  Subscriber             1996.0   \n",
       "15            -122.409449     6361  Subscriber             1993.0   \n",
       "21            -122.253842     6007  Subscriber             1984.0   \n",
       "30            -122.268487     5669  Subscriber             1996.0   \n",
       "\n",
       "   member_gender bike_share_for_all_trip  \n",
       "4           Male                     Yes  \n",
       "10        Female                     Yes  \n",
       "15          Male                     Yes  \n",
       "21          Male                     Yes  \n",
       "30          Male                     Yes  "
      ]
     },
     "execution_count": 17,
     "metadata": {},
     "output_type": "execute_result"
    }
   ],
   "source": [
    "df.head()"
   ]
  },
  {
   "cell_type": "markdown",
   "metadata": {},
   "source": [
    "#### Average duration of rides"
   ]
  },
  {
   "cell_type": "code",
   "execution_count": 18,
   "metadata": {},
   "outputs": [
    {
     "data": {
      "text/plain": [
       "683.99752104231527"
      ]
     },
     "execution_count": 18,
     "metadata": {},
     "output_type": "execute_result"
    }
   ],
   "source": [
    "df['duration_sec'].mean()"
   ]
  },
  {
   "cell_type": "markdown",
   "metadata": {},
   "source": [
    "#### What time of the day is populated with the most users?"
   ]
  },
  {
   "cell_type": "code",
   "execution_count": 19,
   "metadata": {
    "scrolled": true
   },
   "outputs": [
    {
     "data": {
      "text/plain": [
       "17    1560\n",
       "16    1322\n",
       "18    1231\n",
       "15    1225\n",
       "14    1216\n",
       "12    1143\n",
       "13    1072\n",
       "11    1039\n",
       "19    1028\n",
       "9     1012\n",
       "10     989\n",
       "20     832\n",
       "8      785\n",
       "21     741\n",
       "22     508\n",
       "7      474\n",
       "23     286\n",
       "6      254\n",
       "0      161\n",
       "1      139\n",
       "5      125\n",
       "2      122\n",
       "3       51\n",
       "4       31\n",
       "Name: start_time, dtype: int64"
      ]
     },
     "execution_count": 19,
     "metadata": {},
     "output_type": "execute_result"
    }
   ],
   "source": [
    "df['start_time'].dt.hour.value_counts()"
   ]
  },
  {
   "cell_type": "code",
   "execution_count": 20,
   "metadata": {
    "scrolled": true
   },
   "outputs": [
    {
     "data": {
      "text/plain": [
       "17    1570\n",
       "16    1324\n",
       "18    1287\n",
       "15    1200\n",
       "14    1177\n",
       "12    1147\n",
       "13    1095\n",
       "19    1046\n",
       "9     1036\n",
       "10     988\n",
       "11     961\n",
       "20     862\n",
       "21     801\n",
       "8      694\n",
       "22     529\n",
       "7      433\n",
       "23     321\n",
       "6      234\n",
       "0      165\n",
       "1      139\n",
       "2      135\n",
       "5      117\n",
       "3       56\n",
       "4       29\n",
       "Name: end_time, dtype: int64"
      ]
     },
     "execution_count": 20,
     "metadata": {},
     "output_type": "execute_result"
    }
   ],
   "source": [
    "df['end_time'].dt.hour.value_counts()"
   ]
  },
  {
   "cell_type": "markdown",
   "metadata": {},
   "source": [
    "#### What day of the week is populated with the most users?"
   ]
  },
  {
   "cell_type": "code",
   "execution_count": 21,
   "metadata": {
    "scrolled": true
   },
   "outputs": [
    {
     "name": "stderr",
     "output_type": "stream",
     "text": [
      "/opt/conda/lib/python3.6/site-packages/ipykernel_launcher.py:1: SettingWithCopyWarning: \n",
      "A value is trying to be set on a copy of a slice from a DataFrame.\n",
      "Try using .loc[row_indexer,col_indexer] = value instead\n",
      "\n",
      "See the caveats in the documentation: http://pandas.pydata.org/pandas-docs/stable/indexing.html#indexing-view-versus-copy\n",
      "  \"\"\"Entry point for launching an IPython kernel.\n"
     ]
    },
    {
     "data": {
      "text/plain": [
       "3    3107\n",
       "1    2755\n",
       "2    2597\n",
       "4    2507\n",
       "0    2402\n",
       "5    2036\n",
       "6    1942\n",
       "Name: trip_day, dtype: int64"
      ]
     },
     "execution_count": 21,
     "metadata": {},
     "output_type": "execute_result"
    }
   ],
   "source": [
    "df['trip_day'] = df['start_time'].dt.dayofweek\n",
    "df['trip_day'].value_counts()"
   ]
  },
  {
   "cell_type": "code",
   "execution_count": 22,
   "metadata": {},
   "outputs": [
    {
     "name": "stderr",
     "output_type": "stream",
     "text": [
      "/opt/conda/lib/python3.6/site-packages/pandas/core/generic.py:5890: SettingWithCopyWarning: \n",
      "A value is trying to be set on a copy of a slice from a DataFrame\n",
      "\n",
      "See the caveats in the documentation: http://pandas.pydata.org/pandas-docs/stable/indexing.html#indexing-view-versus-copy\n",
      "  self._update_inplace(new_data)\n"
     ]
    },
    {
     "data": {
      "text/plain": [
       "Thur    3107\n",
       "Tue     2755\n",
       "Wed     2597\n",
       "Fri     2507\n",
       "Mon     2402\n",
       "Sat     2036\n",
       "Sun     1942\n",
       "Name: trip_day, dtype: int64"
      ]
     },
     "execution_count": 22,
     "metadata": {},
     "output_type": "execute_result"
    }
   ],
   "source": [
    "df['trip_day'].replace(to_replace=[0,1,2,3,4,5,6], value=[\"Mon\", \"Tue\", \"Wed\", \"Thur\", \"Fri\", \"Sat\", \"Sun\"], inplace = True)\n",
    "df['trip_day'].value_counts()"
   ]
  },
  {
   "cell_type": "markdown",
   "metadata": {},
   "source": [
    "#### What station is populated with most users?"
   ]
  },
  {
   "cell_type": "code",
   "execution_count": 23,
   "metadata": {
    "scrolled": true
   },
   "outputs": [
    {
     "data": {
      "text/plain": [
       "5th St at Virginia St            944\n",
       "San Fernando St at 4th St        804\n",
       "San Fernando St at 7th St        611\n",
       "Bancroft Way at Telegraph Ave    503\n",
       "Bancroft Way at College Ave      474\n",
       "Ryland Park                      352\n",
       "San Salvador St at 9th St        350\n",
       "Name: start_station_name, dtype: int64"
      ]
     },
     "execution_count": 23,
     "metadata": {},
     "output_type": "execute_result"
    }
   ],
   "source": [
    "df['start_station_name'].value_counts().nlargest(7)"
   ]
  },
  {
   "cell_type": "code",
   "execution_count": 24,
   "metadata": {
    "scrolled": false
   },
   "outputs": [
    {
     "data": {
      "text/plain": [
       "5th St at Virginia St            905\n",
       "San Fernando St at 4th St        831\n",
       "San Fernando St at 7th St        657\n",
       "Bancroft Way at Telegraph Ave    528\n",
       "San Salvador St at 9th St        366\n",
       "Ryland Park                      355\n",
       "2nd St at Julian St              293\n",
       "Name: end_station_name, dtype: int64"
      ]
     },
     "execution_count": 24,
     "metadata": {},
     "output_type": "execute_result"
    }
   ],
   "source": [
    "df['end_station_name'].value_counts().nlargest(7)"
   ]
  },
  {
   "cell_type": "markdown",
   "metadata": {},
   "source": [
    "#### What is the gender distribution of users?"
   ]
  },
  {
   "cell_type": "code",
   "execution_count": 25,
   "metadata": {
    "scrolled": true
   },
   "outputs": [
    {
     "data": {
      "text/plain": [
       "Male      13104\n",
       "Female     3594\n",
       "Other       648\n",
       "Name: member_gender, dtype: int64"
      ]
     },
     "execution_count": 25,
     "metadata": {},
     "output_type": "execute_result"
    }
   ],
   "source": [
    "df['member_gender'].value_counts()"
   ]
  },
  {
   "cell_type": "markdown",
   "metadata": {},
   "source": [
    "#### What is the age distribution of users?"
   ]
  },
  {
   "cell_type": "code",
   "execution_count": 26,
   "metadata": {},
   "outputs": [
    {
     "data": {
      "text/plain": [
       "2019    17346\n",
       "Name: start_time, dtype: int64"
      ]
     },
     "execution_count": 26,
     "metadata": {},
     "output_type": "execute_result"
    }
   ],
   "source": [
    "df['start_time'].dt.year.value_counts()"
   ]
  },
  {
   "cell_type": "code",
   "execution_count": 27,
   "metadata": {
    "scrolled": true
   },
   "outputs": [
    {
     "name": "stderr",
     "output_type": "stream",
     "text": [
      "/opt/conda/lib/python3.6/site-packages/ipykernel_launcher.py:1: SettingWithCopyWarning: \n",
      "A value is trying to be set on a copy of a slice from a DataFrame.\n",
      "Try using .loc[row_indexer,col_indexer] = value instead\n",
      "\n",
      "See the caveats in the documentation: http://pandas.pydata.org/pandas-docs/stable/indexing.html#indexing-view-versus-copy\n",
      "  \"\"\"Entry point for launching an IPython kernel.\n",
      "/opt/conda/lib/python3.6/site-packages/ipykernel_launcher.py:2: SettingWithCopyWarning: \n",
      "A value is trying to be set on a copy of a slice from a DataFrame.\n",
      "Try using .loc[row_indexer,col_indexer] = value instead\n",
      "\n",
      "See the caveats in the documentation: http://pandas.pydata.org/pandas-docs/stable/indexing.html#indexing-view-versus-copy\n",
      "  \n"
     ]
    },
    {
     "data": {
      "text/plain": [
       "24     1955\n",
       "26     1742\n",
       "25     1495\n",
       "23     1090\n",
       "27      879\n",
       "22      803\n",
       "21      649\n",
       "29      574\n",
       "28      536\n",
       "20      511\n",
       "30      491\n",
       "35      386\n",
       "39      385\n",
       "45      354\n",
       "43      333\n",
       "47      327\n",
       "42      264\n",
       "38      264\n",
       "62      248\n",
       "31      247\n",
       "52      241\n",
       "19      239\n",
       "44      239\n",
       "32      233\n",
       "37      220\n",
       "56      217\n",
       "41      206\n",
       "33      183\n",
       "51      179\n",
       "54      178\n",
       "40      174\n",
       "48      161\n",
       "49      150\n",
       "55      137\n",
       "58      127\n",
       "46      109\n",
       "63       97\n",
       "36       94\n",
       "34       91\n",
       "57       83\n",
       "74       81\n",
       "53       71\n",
       "72       41\n",
       "70       38\n",
       "50       37\n",
       "60       29\n",
       "119      27\n",
       "66       23\n",
       "86       20\n",
       "59       17\n",
       "64       14\n",
       "61       11\n",
       "65       10\n",
       "69        8\n",
       "76        7\n",
       "80        7\n",
       "67        6\n",
       "68        6\n",
       "73        2\n",
       "Name: member_age, dtype: int64"
      ]
     },
     "execution_count": 27,
     "metadata": {},
     "output_type": "execute_result"
    }
   ],
   "source": [
    "df['member_age'] = 2019 - df['member_birth_year']\n",
    "df['member_age'] = df['member_age'].astype(int)\n",
    "df['member_age'].value_counts()"
   ]
  },
  {
   "cell_type": "code",
   "execution_count": 28,
   "metadata": {
    "scrolled": true
   },
   "outputs": [
    {
     "data": {
      "text/plain": [
       "19      239\n",
       "20      511\n",
       "21      649\n",
       "22      803\n",
       "23     1090\n",
       "24     1955\n",
       "25     1495\n",
       "26     1742\n",
       "27      879\n",
       "28      536\n",
       "29      574\n",
       "30      491\n",
       "31      247\n",
       "32      233\n",
       "33      183\n",
       "34       91\n",
       "35      386\n",
       "36       94\n",
       "37      220\n",
       "38      264\n",
       "39      385\n",
       "40      174\n",
       "41      206\n",
       "42      264\n",
       "43      333\n",
       "44      239\n",
       "45      354\n",
       "46      109\n",
       "47      327\n",
       "48      161\n",
       "49      150\n",
       "50       37\n",
       "51      179\n",
       "52      241\n",
       "53       71\n",
       "54      178\n",
       "55      137\n",
       "56      217\n",
       "57       83\n",
       "58      127\n",
       "59       17\n",
       "60       29\n",
       "61       11\n",
       "62      248\n",
       "63       97\n",
       "64       14\n",
       "65       10\n",
       "66       23\n",
       "67        6\n",
       "68        6\n",
       "69        8\n",
       "70       38\n",
       "72       41\n",
       "73        2\n",
       "74       81\n",
       "76        7\n",
       "80        7\n",
       "86       20\n",
       "119      27\n",
       "Name: member_age, dtype: int64"
      ]
     },
     "execution_count": 28,
     "metadata": {},
     "output_type": "execute_result"
    }
   ],
   "source": [
    "df['member_age'].value_counts().sort_index()"
   ]
  },
  {
   "cell_type": "markdown",
   "metadata": {},
   "source": [
    "Examine age group 119 years"
   ]
  },
  {
   "cell_type": "code",
   "execution_count": 29,
   "metadata": {
    "scrolled": true
   },
   "outputs": [
    {
     "data": {
      "text/html": [
       "<div>\n",
       "<style scoped>\n",
       "    .dataframe tbody tr th:only-of-type {\n",
       "        vertical-align: middle;\n",
       "    }\n",
       "\n",
       "    .dataframe tbody tr th {\n",
       "        vertical-align: top;\n",
       "    }\n",
       "\n",
       "    .dataframe thead th {\n",
       "        text-align: right;\n",
       "    }\n",
       "</style>\n",
       "<table border=\"1\" class=\"dataframe\">\n",
       "  <thead>\n",
       "    <tr style=\"text-align: right;\">\n",
       "      <th></th>\n",
       "      <th>duration_sec</th>\n",
       "      <th>start_time</th>\n",
       "      <th>end_time</th>\n",
       "      <th>start_station_id</th>\n",
       "      <th>start_station_name</th>\n",
       "      <th>start_station_latitude</th>\n",
       "      <th>start_station_longitude</th>\n",
       "      <th>end_station_id</th>\n",
       "      <th>end_station_name</th>\n",
       "      <th>end_station_latitude</th>\n",
       "      <th>end_station_longitude</th>\n",
       "      <th>bike_id</th>\n",
       "      <th>user_type</th>\n",
       "      <th>member_birth_year</th>\n",
       "      <th>member_gender</th>\n",
       "      <th>bike_share_for_all_trip</th>\n",
       "      <th>trip_day</th>\n",
       "      <th>member_age</th>\n",
       "    </tr>\n",
       "  </thead>\n",
       "  <tbody>\n",
       "    <tr>\n",
       "      <th>1285</th>\n",
       "      <td>148</td>\n",
       "      <td>2019-02-28 19:29:17.627</td>\n",
       "      <td>2019-02-28 19:31:45.967</td>\n",
       "      <td>158.0</td>\n",
       "      <td>Shattuck Ave at Telegraph Ave</td>\n",
       "      <td>37.833279</td>\n",
       "      <td>-122.263490</td>\n",
       "      <td>173.0</td>\n",
       "      <td>Shattuck Ave at 55th St</td>\n",
       "      <td>37.840364</td>\n",
       "      <td>-122.264488</td>\n",
       "      <td>5391</td>\n",
       "      <td>Subscriber</td>\n",
       "      <td>1900.0</td>\n",
       "      <td>Male</td>\n",
       "      <td>Yes</td>\n",
       "      <td>Thur</td>\n",
       "      <td>119</td>\n",
       "    </tr>\n",
       "    <tr>\n",
       "      <th>24042</th>\n",
       "      <td>194</td>\n",
       "      <td>2019-02-25 18:58:10.644</td>\n",
       "      <td>2019-02-25 19:01:25.308</td>\n",
       "      <td>158.0</td>\n",
       "      <td>Shattuck Ave at Telegraph Ave</td>\n",
       "      <td>37.833279</td>\n",
       "      <td>-122.263490</td>\n",
       "      <td>173.0</td>\n",
       "      <td>Shattuck Ave at 55th St</td>\n",
       "      <td>37.840364</td>\n",
       "      <td>-122.264488</td>\n",
       "      <td>6363</td>\n",
       "      <td>Subscriber</td>\n",
       "      <td>1900.0</td>\n",
       "      <td>Male</td>\n",
       "      <td>Yes</td>\n",
       "      <td>Mon</td>\n",
       "      <td>119</td>\n",
       "    </tr>\n",
       "    <tr>\n",
       "      <th>26133</th>\n",
       "      <td>410</td>\n",
       "      <td>2019-02-25 13:38:12.067</td>\n",
       "      <td>2019-02-25 13:45:02.207</td>\n",
       "      <td>173.0</td>\n",
       "      <td>Shattuck Ave at 55th St</td>\n",
       "      <td>37.840364</td>\n",
       "      <td>-122.264488</td>\n",
       "      <td>176.0</td>\n",
       "      <td>MacArthur BART Station</td>\n",
       "      <td>37.828410</td>\n",
       "      <td>-122.266315</td>\n",
       "      <td>3311</td>\n",
       "      <td>Subscriber</td>\n",
       "      <td>1900.0</td>\n",
       "      <td>Male</td>\n",
       "      <td>Yes</td>\n",
       "      <td>Mon</td>\n",
       "      <td>119</td>\n",
       "    </tr>\n",
       "    <tr>\n",
       "      <th>32725</th>\n",
       "      <td>85</td>\n",
       "      <td>2019-02-24 13:49:52.142</td>\n",
       "      <td>2019-02-24 13:51:17.904</td>\n",
       "      <td>174.0</td>\n",
       "      <td>Shattuck Ave at 51st St</td>\n",
       "      <td>37.836801</td>\n",
       "      <td>-122.264004</td>\n",
       "      <td>173.0</td>\n",
       "      <td>Shattuck Ave at 55th St</td>\n",
       "      <td>37.840364</td>\n",
       "      <td>-122.264488</td>\n",
       "      <td>5176</td>\n",
       "      <td>Subscriber</td>\n",
       "      <td>1900.0</td>\n",
       "      <td>Male</td>\n",
       "      <td>Yes</td>\n",
       "      <td>Sun</td>\n",
       "      <td>119</td>\n",
       "    </tr>\n",
       "    <tr>\n",
       "      <th>32942</th>\n",
       "      <td>169</td>\n",
       "      <td>2019-02-24 13:17:05.233</td>\n",
       "      <td>2019-02-24 13:19:54.375</td>\n",
       "      <td>173.0</td>\n",
       "      <td>Shattuck Ave at 55th St</td>\n",
       "      <td>37.840364</td>\n",
       "      <td>-122.264488</td>\n",
       "      <td>174.0</td>\n",
       "      <td>Shattuck Ave at 51st St</td>\n",
       "      <td>37.836801</td>\n",
       "      <td>-122.264004</td>\n",
       "      <td>5176</td>\n",
       "      <td>Subscriber</td>\n",
       "      <td>1900.0</td>\n",
       "      <td>Male</td>\n",
       "      <td>Yes</td>\n",
       "      <td>Sun</td>\n",
       "      <td>119</td>\n",
       "    </tr>\n",
       "    <tr>\n",
       "      <th>34747</th>\n",
       "      <td>180</td>\n",
       "      <td>2019-02-23 21:46:26.558</td>\n",
       "      <td>2019-02-23 21:49:26.839</td>\n",
       "      <td>174.0</td>\n",
       "      <td>Shattuck Ave at 51st St</td>\n",
       "      <td>37.836801</td>\n",
       "      <td>-122.264004</td>\n",
       "      <td>204.0</td>\n",
       "      <td>55th St at Telegraph Ave</td>\n",
       "      <td>37.840186</td>\n",
       "      <td>-122.261823</td>\n",
       "      <td>5743</td>\n",
       "      <td>Subscriber</td>\n",
       "      <td>1900.0</td>\n",
       "      <td>Male</td>\n",
       "      <td>Yes</td>\n",
       "      <td>Sat</td>\n",
       "      <td>119</td>\n",
       "    </tr>\n",
       "    <tr>\n",
       "      <th>38932</th>\n",
       "      <td>389</td>\n",
       "      <td>2019-02-23 10:49:33.547</td>\n",
       "      <td>2019-02-23 10:56:03.428</td>\n",
       "      <td>173.0</td>\n",
       "      <td>Shattuck Ave at 55th St</td>\n",
       "      <td>37.840364</td>\n",
       "      <td>-122.264488</td>\n",
       "      <td>150.0</td>\n",
       "      <td>Adeline St at 40th St</td>\n",
       "      <td>37.831277</td>\n",
       "      <td>-122.278267</td>\n",
       "      <td>5435</td>\n",
       "      <td>Subscriber</td>\n",
       "      <td>1900.0</td>\n",
       "      <td>Male</td>\n",
       "      <td>Yes</td>\n",
       "      <td>Sat</td>\n",
       "      <td>119</td>\n",
       "    </tr>\n",
       "    <tr>\n",
       "      <th>41194</th>\n",
       "      <td>313</td>\n",
       "      <td>2019-02-22 18:55:09.207</td>\n",
       "      <td>2019-02-22 19:00:22.969</td>\n",
       "      <td>340.0</td>\n",
       "      <td>Harmon St at Adeline St</td>\n",
       "      <td>37.849735</td>\n",
       "      <td>-122.270582</td>\n",
       "      <td>173.0</td>\n",
       "      <td>Shattuck Ave at 55th St</td>\n",
       "      <td>37.840364</td>\n",
       "      <td>-122.264488</td>\n",
       "      <td>5619</td>\n",
       "      <td>Subscriber</td>\n",
       "      <td>1900.0</td>\n",
       "      <td>Male</td>\n",
       "      <td>Yes</td>\n",
       "      <td>Fri</td>\n",
       "      <td>119</td>\n",
       "    </tr>\n",
       "    <tr>\n",
       "      <th>41319</th>\n",
       "      <td>379</td>\n",
       "      <td>2019-02-22 18:43:07.018</td>\n",
       "      <td>2019-02-22 18:49:26.251</td>\n",
       "      <td>173.0</td>\n",
       "      <td>Shattuck Ave at 55th St</td>\n",
       "      <td>37.840364</td>\n",
       "      <td>-122.264488</td>\n",
       "      <td>340.0</td>\n",
       "      <td>Harmon St at Adeline St</td>\n",
       "      <td>37.849735</td>\n",
       "      <td>-122.270582</td>\n",
       "      <td>5699</td>\n",
       "      <td>Subscriber</td>\n",
       "      <td>1900.0</td>\n",
       "      <td>Male</td>\n",
       "      <td>Yes</td>\n",
       "      <td>Fri</td>\n",
       "      <td>119</td>\n",
       "    </tr>\n",
       "    <tr>\n",
       "      <th>60960</th>\n",
       "      <td>339</td>\n",
       "      <td>2019-02-20 18:08:14.886</td>\n",
       "      <td>2019-02-20 18:13:54.858</td>\n",
       "      <td>177.0</td>\n",
       "      <td>MacArthur Blvd at Telegraph Ave</td>\n",
       "      <td>37.826286</td>\n",
       "      <td>-122.265100</td>\n",
       "      <td>173.0</td>\n",
       "      <td>Shattuck Ave at 55th St</td>\n",
       "      <td>37.840364</td>\n",
       "      <td>-122.264488</td>\n",
       "      <td>5121</td>\n",
       "      <td>Subscriber</td>\n",
       "      <td>1900.0</td>\n",
       "      <td>Male</td>\n",
       "      <td>Yes</td>\n",
       "      <td>Wed</td>\n",
       "      <td>119</td>\n",
       "    </tr>\n",
       "    <tr>\n",
       "      <th>61611</th>\n",
       "      <td>87</td>\n",
       "      <td>2019-02-20 17:41:14.387</td>\n",
       "      <td>2019-02-20 17:42:41.909</td>\n",
       "      <td>176.0</td>\n",
       "      <td>MacArthur BART Station</td>\n",
       "      <td>37.828410</td>\n",
       "      <td>-122.266315</td>\n",
       "      <td>177.0</td>\n",
       "      <td>MacArthur Blvd at Telegraph Ave</td>\n",
       "      <td>37.826286</td>\n",
       "      <td>-122.265100</td>\n",
       "      <td>5121</td>\n",
       "      <td>Subscriber</td>\n",
       "      <td>1900.0</td>\n",
       "      <td>Male</td>\n",
       "      <td>Yes</td>\n",
       "      <td>Wed</td>\n",
       "      <td>119</td>\n",
       "    </tr>\n",
       "    <tr>\n",
       "      <th>72711</th>\n",
       "      <td>221</td>\n",
       "      <td>2019-02-19 15:58:18.804</td>\n",
       "      <td>2019-02-19 16:01:59.839</td>\n",
       "      <td>158.0</td>\n",
       "      <td>Shattuck Ave at Telegraph Ave</td>\n",
       "      <td>37.833279</td>\n",
       "      <td>-122.263490</td>\n",
       "      <td>173.0</td>\n",
       "      <td>Shattuck Ave at 55th St</td>\n",
       "      <td>37.840364</td>\n",
       "      <td>-122.264488</td>\n",
       "      <td>5167</td>\n",
       "      <td>Subscriber</td>\n",
       "      <td>1900.0</td>\n",
       "      <td>Male</td>\n",
       "      <td>Yes</td>\n",
       "      <td>Tue</td>\n",
       "      <td>119</td>\n",
       "    </tr>\n",
       "    <tr>\n",
       "      <th>72819</th>\n",
       "      <td>236</td>\n",
       "      <td>2019-02-19 15:41:13.029</td>\n",
       "      <td>2019-02-19 15:45:09.711</td>\n",
       "      <td>176.0</td>\n",
       "      <td>MacArthur BART Station</td>\n",
       "      <td>37.828410</td>\n",
       "      <td>-122.266315</td>\n",
       "      <td>158.0</td>\n",
       "      <td>Shattuck Ave at Telegraph Ave</td>\n",
       "      <td>37.833279</td>\n",
       "      <td>-122.263490</td>\n",
       "      <td>5167</td>\n",
       "      <td>Subscriber</td>\n",
       "      <td>1900.0</td>\n",
       "      <td>Male</td>\n",
       "      <td>Yes</td>\n",
       "      <td>Tue</td>\n",
       "      <td>119</td>\n",
       "    </tr>\n",
       "    <tr>\n",
       "      <th>73755</th>\n",
       "      <td>374</td>\n",
       "      <td>2019-02-19 12:44:00.256</td>\n",
       "      <td>2019-02-19 12:50:14.502</td>\n",
       "      <td>173.0</td>\n",
       "      <td>Shattuck Ave at 55th St</td>\n",
       "      <td>37.840364</td>\n",
       "      <td>-122.264488</td>\n",
       "      <td>176.0</td>\n",
       "      <td>MacArthur BART Station</td>\n",
       "      <td>37.828410</td>\n",
       "      <td>-122.266315</td>\n",
       "      <td>1764</td>\n",
       "      <td>Subscriber</td>\n",
       "      <td>1900.0</td>\n",
       "      <td>Male</td>\n",
       "      <td>Yes</td>\n",
       "      <td>Tue</td>\n",
       "      <td>119</td>\n",
       "    </tr>\n",
       "    <tr>\n",
       "      <th>78897</th>\n",
       "      <td>258</td>\n",
       "      <td>2019-02-18 18:29:15.232</td>\n",
       "      <td>2019-02-18 18:33:33.364</td>\n",
       "      <td>176.0</td>\n",
       "      <td>MacArthur BART Station</td>\n",
       "      <td>37.828410</td>\n",
       "      <td>-122.266315</td>\n",
       "      <td>173.0</td>\n",
       "      <td>Shattuck Ave at 55th St</td>\n",
       "      <td>37.840364</td>\n",
       "      <td>-122.264488</td>\n",
       "      <td>4869</td>\n",
       "      <td>Subscriber</td>\n",
       "      <td>1900.0</td>\n",
       "      <td>Male</td>\n",
       "      <td>Yes</td>\n",
       "      <td>Mon</td>\n",
       "      <td>119</td>\n",
       "    </tr>\n",
       "    <tr>\n",
       "      <th>88152</th>\n",
       "      <td>366</td>\n",
       "      <td>2019-02-16 19:53:08.366</td>\n",
       "      <td>2019-02-16 19:59:15.023</td>\n",
       "      <td>274.0</td>\n",
       "      <td>Oregon St at Adeline St</td>\n",
       "      <td>37.857567</td>\n",
       "      <td>-122.267558</td>\n",
       "      <td>173.0</td>\n",
       "      <td>Shattuck Ave at 55th St</td>\n",
       "      <td>37.840364</td>\n",
       "      <td>-122.264488</td>\n",
       "      <td>4754</td>\n",
       "      <td>Subscriber</td>\n",
       "      <td>1900.0</td>\n",
       "      <td>Male</td>\n",
       "      <td>Yes</td>\n",
       "      <td>Sat</td>\n",
       "      <td>119</td>\n",
       "    </tr>\n",
       "    <tr>\n",
       "      <th>92611</th>\n",
       "      <td>186</td>\n",
       "      <td>2019-02-15 18:43:00.858</td>\n",
       "      <td>2019-02-15 18:46:07.695</td>\n",
       "      <td>188.0</td>\n",
       "      <td>Dover St at 57th St</td>\n",
       "      <td>37.842630</td>\n",
       "      <td>-122.267738</td>\n",
       "      <td>340.0</td>\n",
       "      <td>Harmon St at Adeline St</td>\n",
       "      <td>37.849735</td>\n",
       "      <td>-122.270582</td>\n",
       "      <td>6622</td>\n",
       "      <td>Subscriber</td>\n",
       "      <td>1900.0</td>\n",
       "      <td>Male</td>\n",
       "      <td>Yes</td>\n",
       "      <td>Fri</td>\n",
       "      <td>119</td>\n",
       "    </tr>\n",
       "    <tr>\n",
       "      <th>93193</th>\n",
       "      <td>302</td>\n",
       "      <td>2019-02-15 17:57:07.184</td>\n",
       "      <td>2019-02-15 18:02:10.093</td>\n",
       "      <td>274.0</td>\n",
       "      <td>Oregon St at Adeline St</td>\n",
       "      <td>37.857567</td>\n",
       "      <td>-122.267558</td>\n",
       "      <td>173.0</td>\n",
       "      <td>Shattuck Ave at 55th St</td>\n",
       "      <td>37.840364</td>\n",
       "      <td>-122.264488</td>\n",
       "      <td>5210</td>\n",
       "      <td>Subscriber</td>\n",
       "      <td>1900.0</td>\n",
       "      <td>Male</td>\n",
       "      <td>Yes</td>\n",
       "      <td>Fri</td>\n",
       "      <td>119</td>\n",
       "    </tr>\n",
       "    <tr>\n",
       "      <th>102148</th>\n",
       "      <td>181</td>\n",
       "      <td>2019-02-14 16:57:25.500</td>\n",
       "      <td>2019-02-14 17:00:26.751</td>\n",
       "      <td>173.0</td>\n",
       "      <td>Shattuck Ave at 55th St</td>\n",
       "      <td>37.840364</td>\n",
       "      <td>-122.264488</td>\n",
       "      <td>174.0</td>\n",
       "      <td>Shattuck Ave at 51st St</td>\n",
       "      <td>37.836801</td>\n",
       "      <td>-122.264004</td>\n",
       "      <td>3605</td>\n",
       "      <td>Subscriber</td>\n",
       "      <td>1900.0</td>\n",
       "      <td>Male</td>\n",
       "      <td>Yes</td>\n",
       "      <td>Thur</td>\n",
       "      <td>119</td>\n",
       "    </tr>\n",
       "    <tr>\n",
       "      <th>107619</th>\n",
       "      <td>217</td>\n",
       "      <td>2019-02-13 15:37:31.735</td>\n",
       "      <td>2019-02-13 15:41:09.510</td>\n",
       "      <td>158.0</td>\n",
       "      <td>Shattuck Ave at Telegraph Ave</td>\n",
       "      <td>37.833279</td>\n",
       "      <td>-122.263490</td>\n",
       "      <td>173.0</td>\n",
       "      <td>Shattuck Ave at 55th St</td>\n",
       "      <td>37.840364</td>\n",
       "      <td>-122.264488</td>\n",
       "      <td>3615</td>\n",
       "      <td>Subscriber</td>\n",
       "      <td>1900.0</td>\n",
       "      <td>Male</td>\n",
       "      <td>Yes</td>\n",
       "      <td>Wed</td>\n",
       "      <td>119</td>\n",
       "    </tr>\n",
       "    <tr>\n",
       "      <th>109010</th>\n",
       "      <td>431</td>\n",
       "      <td>2019-02-12 20:30:25.977</td>\n",
       "      <td>2019-02-12 20:37:37.668</td>\n",
       "      <td>215.0</td>\n",
       "      <td>34th St at Telegraph Ave</td>\n",
       "      <td>37.822547</td>\n",
       "      <td>-122.266318</td>\n",
       "      <td>173.0</td>\n",
       "      <td>Shattuck Ave at 55th St</td>\n",
       "      <td>37.840364</td>\n",
       "      <td>-122.264488</td>\n",
       "      <td>5121</td>\n",
       "      <td>Subscriber</td>\n",
       "      <td>1900.0</td>\n",
       "      <td>Male</td>\n",
       "      <td>Yes</td>\n",
       "      <td>Tue</td>\n",
       "      <td>119</td>\n",
       "    </tr>\n",
       "    <tr>\n",
       "      <th>110468</th>\n",
       "      <td>257</td>\n",
       "      <td>2019-02-12 18:00:27.822</td>\n",
       "      <td>2019-02-12 18:04:45.246</td>\n",
       "      <td>158.0</td>\n",
       "      <td>Shattuck Ave at Telegraph Ave</td>\n",
       "      <td>37.833279</td>\n",
       "      <td>-122.263490</td>\n",
       "      <td>215.0</td>\n",
       "      <td>34th St at Telegraph Ave</td>\n",
       "      <td>37.822547</td>\n",
       "      <td>-122.266318</td>\n",
       "      <td>456</td>\n",
       "      <td>Subscriber</td>\n",
       "      <td>1900.0</td>\n",
       "      <td>Male</td>\n",
       "      <td>Yes</td>\n",
       "      <td>Tue</td>\n",
       "      <td>119</td>\n",
       "    </tr>\n",
       "    <tr>\n",
       "      <th>110734</th>\n",
       "      <td>794</td>\n",
       "      <td>2019-02-12 17:38:26.377</td>\n",
       "      <td>2019-02-12 17:51:40.784</td>\n",
       "      <td>173.0</td>\n",
       "      <td>Shattuck Ave at 55th St</td>\n",
       "      <td>37.840364</td>\n",
       "      <td>-122.264488</td>\n",
       "      <td>158.0</td>\n",
       "      <td>Shattuck Ave at Telegraph Ave</td>\n",
       "      <td>37.833279</td>\n",
       "      <td>-122.263490</td>\n",
       "      <td>456</td>\n",
       "      <td>Subscriber</td>\n",
       "      <td>1900.0</td>\n",
       "      <td>Male</td>\n",
       "      <td>Yes</td>\n",
       "      <td>Tue</td>\n",
       "      <td>119</td>\n",
       "    </tr>\n",
       "    <tr>\n",
       "      <th>119010</th>\n",
       "      <td>267</td>\n",
       "      <td>2019-02-11 18:19:18.848</td>\n",
       "      <td>2019-02-11 18:23:46.758</td>\n",
       "      <td>158.0</td>\n",
       "      <td>Shattuck Ave at Telegraph Ave</td>\n",
       "      <td>37.833279</td>\n",
       "      <td>-122.263490</td>\n",
       "      <td>173.0</td>\n",
       "      <td>Shattuck Ave at 55th St</td>\n",
       "      <td>37.840364</td>\n",
       "      <td>-122.264488</td>\n",
       "      <td>3730</td>\n",
       "      <td>Subscriber</td>\n",
       "      <td>1900.0</td>\n",
       "      <td>Male</td>\n",
       "      <td>Yes</td>\n",
       "      <td>Mon</td>\n",
       "      <td>119</td>\n",
       "    </tr>\n",
       "    <tr>\n",
       "      <th>128986</th>\n",
       "      <td>520</td>\n",
       "      <td>2019-02-10 11:48:51.152</td>\n",
       "      <td>2019-02-10 11:57:31.632</td>\n",
       "      <td>173.0</td>\n",
       "      <td>Shattuck Ave at 55th St</td>\n",
       "      <td>37.840364</td>\n",
       "      <td>-122.264488</td>\n",
       "      <td>150.0</td>\n",
       "      <td>Adeline St at 40th St</td>\n",
       "      <td>37.831277</td>\n",
       "      <td>-122.278267</td>\n",
       "      <td>2323</td>\n",
       "      <td>Subscriber</td>\n",
       "      <td>1900.0</td>\n",
       "      <td>Male</td>\n",
       "      <td>Yes</td>\n",
       "      <td>Sun</td>\n",
       "      <td>119</td>\n",
       "    </tr>\n",
       "    <tr>\n",
       "      <th>162051</th>\n",
       "      <td>176</td>\n",
       "      <td>2019-02-05 13:00:00.604</td>\n",
       "      <td>2019-02-05 13:02:57.549</td>\n",
       "      <td>173.0</td>\n",
       "      <td>Shattuck Ave at 55th St</td>\n",
       "      <td>37.840364</td>\n",
       "      <td>-122.264488</td>\n",
       "      <td>174.0</td>\n",
       "      <td>Shattuck Ave at 51st St</td>\n",
       "      <td>37.836801</td>\n",
       "      <td>-122.264004</td>\n",
       "      <td>2442</td>\n",
       "      <td>Subscriber</td>\n",
       "      <td>1900.0</td>\n",
       "      <td>Male</td>\n",
       "      <td>Yes</td>\n",
       "      <td>Tue</td>\n",
       "      <td>119</td>\n",
       "    </tr>\n",
       "    <tr>\n",
       "      <th>171757</th>\n",
       "      <td>94</td>\n",
       "      <td>2019-02-03 19:12:06.607</td>\n",
       "      <td>2019-02-03 19:13:40.671</td>\n",
       "      <td>173.0</td>\n",
       "      <td>Shattuck Ave at 55th St</td>\n",
       "      <td>37.840364</td>\n",
       "      <td>-122.264488</td>\n",
       "      <td>174.0</td>\n",
       "      <td>Shattuck Ave at 51st St</td>\n",
       "      <td>37.836801</td>\n",
       "      <td>-122.264004</td>\n",
       "      <td>4539</td>\n",
       "      <td>Subscriber</td>\n",
       "      <td>1900.0</td>\n",
       "      <td>Male</td>\n",
       "      <td>Yes</td>\n",
       "      <td>Sun</td>\n",
       "      <td>119</td>\n",
       "    </tr>\n",
       "  </tbody>\n",
       "</table>\n",
       "</div>"
      ],
      "text/plain": [
       "        duration_sec              start_time                end_time  \\\n",
       "1285             148 2019-02-28 19:29:17.627 2019-02-28 19:31:45.967   \n",
       "24042            194 2019-02-25 18:58:10.644 2019-02-25 19:01:25.308   \n",
       "26133            410 2019-02-25 13:38:12.067 2019-02-25 13:45:02.207   \n",
       "32725             85 2019-02-24 13:49:52.142 2019-02-24 13:51:17.904   \n",
       "32942            169 2019-02-24 13:17:05.233 2019-02-24 13:19:54.375   \n",
       "34747            180 2019-02-23 21:46:26.558 2019-02-23 21:49:26.839   \n",
       "38932            389 2019-02-23 10:49:33.547 2019-02-23 10:56:03.428   \n",
       "41194            313 2019-02-22 18:55:09.207 2019-02-22 19:00:22.969   \n",
       "41319            379 2019-02-22 18:43:07.018 2019-02-22 18:49:26.251   \n",
       "60960            339 2019-02-20 18:08:14.886 2019-02-20 18:13:54.858   \n",
       "61611             87 2019-02-20 17:41:14.387 2019-02-20 17:42:41.909   \n",
       "72711            221 2019-02-19 15:58:18.804 2019-02-19 16:01:59.839   \n",
       "72819            236 2019-02-19 15:41:13.029 2019-02-19 15:45:09.711   \n",
       "73755            374 2019-02-19 12:44:00.256 2019-02-19 12:50:14.502   \n",
       "78897            258 2019-02-18 18:29:15.232 2019-02-18 18:33:33.364   \n",
       "88152            366 2019-02-16 19:53:08.366 2019-02-16 19:59:15.023   \n",
       "92611            186 2019-02-15 18:43:00.858 2019-02-15 18:46:07.695   \n",
       "93193            302 2019-02-15 17:57:07.184 2019-02-15 18:02:10.093   \n",
       "102148           181 2019-02-14 16:57:25.500 2019-02-14 17:00:26.751   \n",
       "107619           217 2019-02-13 15:37:31.735 2019-02-13 15:41:09.510   \n",
       "109010           431 2019-02-12 20:30:25.977 2019-02-12 20:37:37.668   \n",
       "110468           257 2019-02-12 18:00:27.822 2019-02-12 18:04:45.246   \n",
       "110734           794 2019-02-12 17:38:26.377 2019-02-12 17:51:40.784   \n",
       "119010           267 2019-02-11 18:19:18.848 2019-02-11 18:23:46.758   \n",
       "128986           520 2019-02-10 11:48:51.152 2019-02-10 11:57:31.632   \n",
       "162051           176 2019-02-05 13:00:00.604 2019-02-05 13:02:57.549   \n",
       "171757            94 2019-02-03 19:12:06.607 2019-02-03 19:13:40.671   \n",
       "\n",
       "        start_station_id               start_station_name  \\\n",
       "1285               158.0    Shattuck Ave at Telegraph Ave   \n",
       "24042              158.0    Shattuck Ave at Telegraph Ave   \n",
       "26133              173.0          Shattuck Ave at 55th St   \n",
       "32725              174.0          Shattuck Ave at 51st St   \n",
       "32942              173.0          Shattuck Ave at 55th St   \n",
       "34747              174.0          Shattuck Ave at 51st St   \n",
       "38932              173.0          Shattuck Ave at 55th St   \n",
       "41194              340.0          Harmon St at Adeline St   \n",
       "41319              173.0          Shattuck Ave at 55th St   \n",
       "60960              177.0  MacArthur Blvd at Telegraph Ave   \n",
       "61611              176.0           MacArthur BART Station   \n",
       "72711              158.0    Shattuck Ave at Telegraph Ave   \n",
       "72819              176.0           MacArthur BART Station   \n",
       "73755              173.0          Shattuck Ave at 55th St   \n",
       "78897              176.0           MacArthur BART Station   \n",
       "88152              274.0          Oregon St at Adeline St   \n",
       "92611              188.0              Dover St at 57th St   \n",
       "93193              274.0          Oregon St at Adeline St   \n",
       "102148             173.0          Shattuck Ave at 55th St   \n",
       "107619             158.0    Shattuck Ave at Telegraph Ave   \n",
       "109010             215.0         34th St at Telegraph Ave   \n",
       "110468             158.0    Shattuck Ave at Telegraph Ave   \n",
       "110734             173.0          Shattuck Ave at 55th St   \n",
       "119010             158.0    Shattuck Ave at Telegraph Ave   \n",
       "128986             173.0          Shattuck Ave at 55th St   \n",
       "162051             173.0          Shattuck Ave at 55th St   \n",
       "171757             173.0          Shattuck Ave at 55th St   \n",
       "\n",
       "        start_station_latitude  start_station_longitude  end_station_id  \\\n",
       "1285                 37.833279              -122.263490           173.0   \n",
       "24042                37.833279              -122.263490           173.0   \n",
       "26133                37.840364              -122.264488           176.0   \n",
       "32725                37.836801              -122.264004           173.0   \n",
       "32942                37.840364              -122.264488           174.0   \n",
       "34747                37.836801              -122.264004           204.0   \n",
       "38932                37.840364              -122.264488           150.0   \n",
       "41194                37.849735              -122.270582           173.0   \n",
       "41319                37.840364              -122.264488           340.0   \n",
       "60960                37.826286              -122.265100           173.0   \n",
       "61611                37.828410              -122.266315           177.0   \n",
       "72711                37.833279              -122.263490           173.0   \n",
       "72819                37.828410              -122.266315           158.0   \n",
       "73755                37.840364              -122.264488           176.0   \n",
       "78897                37.828410              -122.266315           173.0   \n",
       "88152                37.857567              -122.267558           173.0   \n",
       "92611                37.842630              -122.267738           340.0   \n",
       "93193                37.857567              -122.267558           173.0   \n",
       "102148               37.840364              -122.264488           174.0   \n",
       "107619               37.833279              -122.263490           173.0   \n",
       "109010               37.822547              -122.266318           173.0   \n",
       "110468               37.833279              -122.263490           215.0   \n",
       "110734               37.840364              -122.264488           158.0   \n",
       "119010               37.833279              -122.263490           173.0   \n",
       "128986               37.840364              -122.264488           150.0   \n",
       "162051               37.840364              -122.264488           174.0   \n",
       "171757               37.840364              -122.264488           174.0   \n",
       "\n",
       "                       end_station_name  end_station_latitude  \\\n",
       "1285            Shattuck Ave at 55th St             37.840364   \n",
       "24042           Shattuck Ave at 55th St             37.840364   \n",
       "26133            MacArthur BART Station             37.828410   \n",
       "32725           Shattuck Ave at 55th St             37.840364   \n",
       "32942           Shattuck Ave at 51st St             37.836801   \n",
       "34747          55th St at Telegraph Ave             37.840186   \n",
       "38932             Adeline St at 40th St             37.831277   \n",
       "41194           Shattuck Ave at 55th St             37.840364   \n",
       "41319           Harmon St at Adeline St             37.849735   \n",
       "60960           Shattuck Ave at 55th St             37.840364   \n",
       "61611   MacArthur Blvd at Telegraph Ave             37.826286   \n",
       "72711           Shattuck Ave at 55th St             37.840364   \n",
       "72819     Shattuck Ave at Telegraph Ave             37.833279   \n",
       "73755            MacArthur BART Station             37.828410   \n",
       "78897           Shattuck Ave at 55th St             37.840364   \n",
       "88152           Shattuck Ave at 55th St             37.840364   \n",
       "92611           Harmon St at Adeline St             37.849735   \n",
       "93193           Shattuck Ave at 55th St             37.840364   \n",
       "102148          Shattuck Ave at 51st St             37.836801   \n",
       "107619          Shattuck Ave at 55th St             37.840364   \n",
       "109010          Shattuck Ave at 55th St             37.840364   \n",
       "110468         34th St at Telegraph Ave             37.822547   \n",
       "110734    Shattuck Ave at Telegraph Ave             37.833279   \n",
       "119010          Shattuck Ave at 55th St             37.840364   \n",
       "128986            Adeline St at 40th St             37.831277   \n",
       "162051          Shattuck Ave at 51st St             37.836801   \n",
       "171757          Shattuck Ave at 51st St             37.836801   \n",
       "\n",
       "        end_station_longitude  bike_id   user_type  member_birth_year  \\\n",
       "1285              -122.264488     5391  Subscriber             1900.0   \n",
       "24042             -122.264488     6363  Subscriber             1900.0   \n",
       "26133             -122.266315     3311  Subscriber             1900.0   \n",
       "32725             -122.264488     5176  Subscriber             1900.0   \n",
       "32942             -122.264004     5176  Subscriber             1900.0   \n",
       "34747             -122.261823     5743  Subscriber             1900.0   \n",
       "38932             -122.278267     5435  Subscriber             1900.0   \n",
       "41194             -122.264488     5619  Subscriber             1900.0   \n",
       "41319             -122.270582     5699  Subscriber             1900.0   \n",
       "60960             -122.264488     5121  Subscriber             1900.0   \n",
       "61611             -122.265100     5121  Subscriber             1900.0   \n",
       "72711             -122.264488     5167  Subscriber             1900.0   \n",
       "72819             -122.263490     5167  Subscriber             1900.0   \n",
       "73755             -122.266315     1764  Subscriber             1900.0   \n",
       "78897             -122.264488     4869  Subscriber             1900.0   \n",
       "88152             -122.264488     4754  Subscriber             1900.0   \n",
       "92611             -122.270582     6622  Subscriber             1900.0   \n",
       "93193             -122.264488     5210  Subscriber             1900.0   \n",
       "102148            -122.264004     3605  Subscriber             1900.0   \n",
       "107619            -122.264488     3615  Subscriber             1900.0   \n",
       "109010            -122.264488     5121  Subscriber             1900.0   \n",
       "110468            -122.266318      456  Subscriber             1900.0   \n",
       "110734            -122.263490      456  Subscriber             1900.0   \n",
       "119010            -122.264488     3730  Subscriber             1900.0   \n",
       "128986            -122.278267     2323  Subscriber             1900.0   \n",
       "162051            -122.264004     2442  Subscriber             1900.0   \n",
       "171757            -122.264004     4539  Subscriber             1900.0   \n",
       "\n",
       "       member_gender bike_share_for_all_trip trip_day  member_age  \n",
       "1285            Male                     Yes     Thur         119  \n",
       "24042           Male                     Yes      Mon         119  \n",
       "26133           Male                     Yes      Mon         119  \n",
       "32725           Male                     Yes      Sun         119  \n",
       "32942           Male                     Yes      Sun         119  \n",
       "34747           Male                     Yes      Sat         119  \n",
       "38932           Male                     Yes      Sat         119  \n",
       "41194           Male                     Yes      Fri         119  \n",
       "41319           Male                     Yes      Fri         119  \n",
       "60960           Male                     Yes      Wed         119  \n",
       "61611           Male                     Yes      Wed         119  \n",
       "72711           Male                     Yes      Tue         119  \n",
       "72819           Male                     Yes      Tue         119  \n",
       "73755           Male                     Yes      Tue         119  \n",
       "78897           Male                     Yes      Mon         119  \n",
       "88152           Male                     Yes      Sat         119  \n",
       "92611           Male                     Yes      Fri         119  \n",
       "93193           Male                     Yes      Fri         119  \n",
       "102148          Male                     Yes     Thur         119  \n",
       "107619          Male                     Yes      Wed         119  \n",
       "109010          Male                     Yes      Tue         119  \n",
       "110468          Male                     Yes      Tue         119  \n",
       "110734          Male                     Yes      Tue         119  \n",
       "119010          Male                     Yes      Mon         119  \n",
       "128986          Male                     Yes      Sun         119  \n",
       "162051          Male                     Yes      Tue         119  \n",
       "171757          Male                     Yes      Sun         119  "
      ]
     },
     "execution_count": 29,
     "metadata": {},
     "output_type": "execute_result"
    }
   ],
   "source": [
    "df[df['member_age'] == 119]"
   ]
  },
  {
   "cell_type": "markdown",
   "metadata": {},
   "source": [
    "No reason to suggest that the subset is in error but it is an outlier so it would be dropped."
   ]
  },
  {
   "cell_type": "code",
   "execution_count": 30,
   "metadata": {
    "scrolled": true
   },
   "outputs": [
    {
     "name": "stderr",
     "output_type": "stream",
     "text": [
      "/opt/conda/lib/python3.6/site-packages/pandas/core/frame.py:3697: SettingWithCopyWarning: \n",
      "A value is trying to be set on a copy of a slice from a DataFrame\n",
      "\n",
      "See the caveats in the documentation: http://pandas.pydata.org/pandas-docs/stable/indexing.html#indexing-view-versus-copy\n",
      "  errors=errors)\n"
     ]
    },
    {
     "data": {
      "text/plain": [
       "19     239\n",
       "20     511\n",
       "21     649\n",
       "22     803\n",
       "23    1090\n",
       "24    1955\n",
       "25    1495\n",
       "26    1742\n",
       "27     879\n",
       "28     536\n",
       "29     574\n",
       "30     491\n",
       "31     247\n",
       "32     233\n",
       "33     183\n",
       "34      91\n",
       "35     386\n",
       "36      94\n",
       "37     220\n",
       "38     264\n",
       "39     385\n",
       "40     174\n",
       "41     206\n",
       "42     264\n",
       "43     333\n",
       "44     239\n",
       "45     354\n",
       "46     109\n",
       "47     327\n",
       "48     161\n",
       "49     150\n",
       "50      37\n",
       "51     179\n",
       "52     241\n",
       "53      71\n",
       "54     178\n",
       "55     137\n",
       "56     217\n",
       "57      83\n",
       "58     127\n",
       "59      17\n",
       "60      29\n",
       "61      11\n",
       "62     248\n",
       "63      97\n",
       "64      14\n",
       "65      10\n",
       "66      23\n",
       "67       6\n",
       "68       6\n",
       "69       8\n",
       "70      38\n",
       "72      41\n",
       "73       2\n",
       "74      81\n",
       "76       7\n",
       "80       7\n",
       "86      20\n",
       "Name: member_age, dtype: int64"
      ]
     },
     "execution_count": 30,
     "metadata": {},
     "output_type": "execute_result"
    }
   ],
   "source": [
    "df_119years_index = df[df['member_age'] == 119].index\n",
    "df.drop(df_119years_index, inplace = True)\n",
    "df['member_age'].value_counts().sort_index()"
   ]
  },
  {
   "cell_type": "code",
   "execution_count": 31,
   "metadata": {
    "scrolled": true
   },
   "outputs": [
    {
     "data": {
      "text/plain": [
       "61        4\n",
       "62        5\n",
       "63        5\n",
       "64        6\n",
       "65        5\n",
       "66        5\n",
       "67        8\n",
       "68        7\n",
       "69       12\n",
       "70        4\n",
       "71        8\n",
       "72       10\n",
       "73       11\n",
       "74        7\n",
       "75        8\n",
       "76       16\n",
       "77        7\n",
       "78        5\n",
       "79        6\n",
       "80       11\n",
       "81        7\n",
       "82       17\n",
       "83       12\n",
       "84        9\n",
       "85       10\n",
       "86        5\n",
       "87        6\n",
       "88       12\n",
       "89        9\n",
       "90       15\n",
       "         ..\n",
       "10745     1\n",
       "12481     1\n",
       "12894     1\n",
       "13609     1\n",
       "13819     1\n",
       "13886     1\n",
       "14880     1\n",
       "15486     1\n",
       "15739     1\n",
       "16655     1\n",
       "16747     1\n",
       "19687     1\n",
       "21452     1\n",
       "21883     1\n",
       "22149     1\n",
       "22225     1\n",
       "24646     1\n",
       "25313     1\n",
       "25428     1\n",
       "26988     1\n",
       "28013     1\n",
       "39759     1\n",
       "45019     1\n",
       "47559     1\n",
       "49402     1\n",
       "51488     1\n",
       "60441     1\n",
       "61119     1\n",
       "63097     1\n",
       "83195     1\n",
       "Name: duration_sec, Length: 2367, dtype: int64"
      ]
     },
     "execution_count": 31,
     "metadata": {},
     "output_type": "execute_result"
    }
   ],
   "source": [
    "df['duration_sec'].value_counts().sort_index()"
   ]
  },
  {
   "cell_type": "code",
   "execution_count": 32,
   "metadata": {},
   "outputs": [
    {
     "name": "stdout",
     "output_type": "stream",
     "text": [
      "Max duration is 83195\n",
      "Min duration is 61\n"
     ]
    }
   ],
   "source": [
    "max = df['duration_sec'].max()\n",
    "min = df['duration_sec'].min()\n",
    "print(f'Max duration is {max}')\n",
    "print(f'Min duration is {min}')"
   ]
  },
  {
   "cell_type": "markdown",
   "metadata": {},
   "source": [
    "\n",
    "\n",
    ">**Visualizations**"
   ]
  },
  {
   "cell_type": "markdown",
   "metadata": {},
   "source": [
    "#### What time of the day is populated with the most users?"
   ]
  },
  {
   "cell_type": "code",
   "execution_count": 33,
   "metadata": {},
   "outputs": [],
   "source": [
    "#define a function for plots\n",
    "def plt_plot_function(dataset, xlabel = None, ylabel = None, ticks = None, labels = None, plot_type = 'bar', figsize = (8,5), \n",
    "                      alpha = 1):\n",
    "    \n",
    "    \n",
    "    \"\"\"\n",
    "    Create a plot.\n",
    "    \n",
    "    This function contains codes that simply create a plot given different parameters to work with.\n",
    "\n",
    "    Parameters\n",
    "    ----------\n",
    "    dataset : dataset to plot\n",
    "    xlabel : label text, default value is None \n",
    "    ylabel : label text, default value is None\n",
    "    ticks : values for x axis, default value is None\n",
    "    labels : new values for x axis, default value is None\n",
    "    plot_type : type of plot, default value is 'bar'\n",
    "    figsize : size of chart, default value is (8,5)\n",
    "    alpha : adjust the transparency of the plot, default value is 1\n",
    "    \n",
    "    \"\"\"\n",
    "        \n",
    "    dataset.plot(kind = plot_type, figsize = figsize, alpha = alpha)\n",
    "    if xlabel:\n",
    "        plt.xlabel(xlabel)\n",
    "    if ylabel:\n",
    "        plt.ylabel(ylabel)\n",
    "    if ticks and labels:\n",
    "        plt.xticks(ticks, labels);"
   ]
  },
  {
   "cell_type": "code",
   "execution_count": 34,
   "metadata": {},
   "outputs": [
    {
     "name": "stderr",
     "output_type": "stream",
     "text": [
      "/opt/conda/lib/python3.6/site-packages/ipykernel_launcher.py:1: SettingWithCopyWarning: \n",
      "A value is trying to be set on a copy of a slice from a DataFrame.\n",
      "Try using .loc[row_indexer,col_indexer] = value instead\n",
      "\n",
      "See the caveats in the documentation: http://pandas.pydata.org/pandas-docs/stable/indexing.html#indexing-view-versus-copy\n",
      "  \"\"\"Entry point for launching an IPython kernel.\n"
     ]
    },
    {
     "data": {
      "image/png": "[encoded data removed]",
      "text/plain": [
       "<matplotlib.figure.Figure at 0x7f60d2a52be0>"
      ]
     },
     "metadata": {
      "needs_background": "light"
     },
     "output_type": "display_data"
    }
   ],
   "source": [
    "df['trip_time'] = df['start_time'].dt.hour\n",
    "dataset = df['trip_time'].value_counts().sort_index()\n",
    "plt_plot_function(dataset, 'Hour of the day', 'count')"
   ]
  },
  {
   "cell_type": "markdown",
   "metadata": {},
   "source": [
    "Most rides start within the hours of 5pm and 6pm"
   ]
  },
  {
   "cell_type": "code",
   "execution_count": 35,
   "metadata": {
    "scrolled": true
   },
   "outputs": [
    {
     "data": {
      "image/png": "[encoded data removed]",
      "text/plain": [
       "<matplotlib.figure.Figure at 0x7f60d22b91d0>"
      ]
     },
     "metadata": {
      "needs_background": "light"
     },
     "output_type": "display_data"
    }
   ],
   "source": [
    "dataset = df['end_time'].dt.hour.value_counts().sort_index()\n",
    "plt_plot_function(dataset, 'Hour of the day', 'count')"
   ]
  },
  {
   "cell_type": "markdown",
   "metadata": {},
   "source": [
    "Most rides end within the hours of 5pm and 6pm"
   ]
  },
  {
   "cell_type": "markdown",
   "metadata": {},
   "source": [
    "#### What day of the week is populated with the most users?"
   ]
  },
  {
   "cell_type": "code",
   "execution_count": 36,
   "metadata": {},
   "outputs": [
    {
     "data": {
      "image/png": "[encoded data removed]",
      "text/plain": [
       "<matplotlib.figure.Figure at 0x7f60d222e7f0>"
      ]
     },
     "metadata": {
      "needs_background": "light"
     },
     "output_type": "display_data"
    }
   ],
   "source": [
    "dataset = df['trip_day'].value_counts().sort_index()\n",
    "plt_plot_function(dataset, 'Day of the week', 'count');"
   ]
  },
  {
   "cell_type": "markdown",
   "metadata": {},
   "source": [
    "Thursdays are more populated with users than any other day"
   ]
  },
  {
   "cell_type": "markdown",
   "metadata": {},
   "source": [
    "#### What station is populated with most users?"
   ]
  },
  {
   "cell_type": "code",
   "execution_count": 37,
   "metadata": {
    "scrolled": false
   },
   "outputs": [
    {
     "data": {
      "image/png": "[encoded data removed]",
      "text/plain": [
       "<matplotlib.figure.Figure at 0x7f60d21aa0b8>"
      ]
     },
     "metadata": {
      "needs_background": "light"
     },
     "output_type": "display_data"
    }
   ],
   "source": [
    "dataset = df['start_station_name'].value_counts().nlargest(7)\n",
    "plt_plot_function(dataset, 'Station', 'count')"
   ]
  },
  {
   "cell_type": "markdown",
   "metadata": {},
   "source": [
    "Most populated station with users is the 5th St at Virginia St"
   ]
  },
  {
   "cell_type": "code",
   "execution_count": 38,
   "metadata": {
    "scrolled": true
   },
   "outputs": [
    {
     "data": {
      "image/png": "[encoded data removed]",
      "text/plain": [
       "<matplotlib.figure.Figure at 0x7f60d17e57b8>"
      ]
     },
     "metadata": {
      "needs_background": "light"
     },
     "output_type": "display_data"
    }
   ],
   "source": [
    "dataset = df['end_station_name'].value_counts().nlargest(7)\n",
    "plt_plot_function(dataset, 'Station', 'count')"
   ]
  },
  {
   "cell_type": "markdown",
   "metadata": {},
   "source": [
    "The same station 5th St at Virginia St is the destination for most users.\n",
    "A lot of users start at stations where a lot of users end."
   ]
  },
  {
   "cell_type": "markdown",
   "metadata": {},
   "source": [
    "#### Examine the gender distribution of users"
   ]
  },
  {
   "cell_type": "code",
   "execution_count": 39,
   "metadata": {
    "scrolled": true
   },
   "outputs": [
    {
     "data": {
      "image/png": "[encoded data removed]",
      "text/plain": [
       "<matplotlib.figure.Figure at 0x7f60d17519b0>"
      ]
     },
     "metadata": {},
     "output_type": "display_data"
    }
   ],
   "source": [
    "gender_counts = df['member_gender'].value_counts()\n",
    "gender_counts\n",
    "plt.pie(gender_counts, labels = gender_counts.index, startangle = 90)\n",
    "plt.axis('square');"
   ]
  },
  {
   "cell_type": "markdown",
   "metadata": {},
   "source": [
    "More males are comfortable sharing rides than females and other genders."
   ]
  },
  {
   "cell_type": "markdown",
   "metadata": {},
   "source": [
    "#### Examine age distribution of users"
   ]
  },
  {
   "cell_type": "code",
   "execution_count": 40,
   "metadata": {
    "scrolled": true
   },
   "outputs": [
    {
     "data": {
      "image/png": "[encoded data removed]",
      "text/plain": [
       "<matplotlib.figure.Figure at 0x7f60d178c908>"
      ]
     },
     "metadata": {
      "needs_background": "light"
     },
     "output_type": "display_data"
    }
   ],
   "source": [
    "dataset = df['member_age'].value_counts()\n",
    "plt_plot_function(dataset, 'age', 'count', figsize = (12,5))"
   ]
  },
  {
   "cell_type": "markdown",
   "metadata": {},
   "source": [
    "Most users are 24 years"
   ]
  },
  {
   "cell_type": "code",
   "execution_count": 41,
   "metadata": {
    "scrolled": true
   },
   "outputs": [
    {
     "data": {
      "image/png": "[encoded data removed]",
      "text/plain": [
       "<matplotlib.figure.Figure at 0x7f60d15b07f0>"
      ]
     },
     "metadata": {
      "needs_background": "light"
     },
     "output_type": "display_data"
    }
   ],
   "source": [
    "dataset = df['member_age'].value_counts().sort_index()\n",
    "plt_plot_function(dataset, 'age', 'count', figsize = (12,5))"
   ]
  },
  {
   "cell_type": "markdown",
   "metadata": {},
   "source": [
    "Most users are 24 years, 26 and 25 years, while user ages range from 19-86 years."
   ]
  },
  {
   "cell_type": "code",
   "execution_count": 42,
   "metadata": {
    "scrolled": false
   },
   "outputs": [
    {
     "data": {
      "image/png": "[encoded data removed]",
      "text/plain": [
       "<matplotlib.figure.Figure at 0x7f60d15c4390>"
      ]
     },
     "metadata": {
      "needs_background": "light"
     },
     "output_type": "display_data"
    }
   ],
   "source": [
    "dataset = df['duration_sec'].value_counts().sort_index().nlargest(10)\n",
    "plt_plot_function(dataset, 'Duration in Secs', 'count')"
   ]
  },
  {
   "cell_type": "markdown",
   "metadata": {},
   "source": [
    "A lot of users' rides were 352 secs"
   ]
  },
  {
   "cell_type": "code",
   "execution_count": 43,
   "metadata": {
    "scrolled": true
   },
   "outputs": [
    {
     "data": {
      "text/plain": [
       "61        4\n",
       "62        5\n",
       "63        5\n",
       "64        6\n",
       "65        5\n",
       "66        5\n",
       "67        8\n",
       "68        7\n",
       "69       12\n",
       "70        4\n",
       "71        8\n",
       "72       10\n",
       "73       11\n",
       "74        7\n",
       "75        8\n",
       "76       16\n",
       "77        7\n",
       "78        5\n",
       "79        6\n",
       "80       11\n",
       "81        7\n",
       "82       17\n",
       "83       12\n",
       "84        9\n",
       "85       10\n",
       "86        5\n",
       "87        6\n",
       "88       12\n",
       "89        9\n",
       "90       15\n",
       "         ..\n",
       "10745     1\n",
       "12481     1\n",
       "12894     1\n",
       "13609     1\n",
       "13819     1\n",
       "13886     1\n",
       "14880     1\n",
       "15486     1\n",
       "15739     1\n",
       "16655     1\n",
       "16747     1\n",
       "19687     1\n",
       "21452     1\n",
       "21883     1\n",
       "22149     1\n",
       "22225     1\n",
       "24646     1\n",
       "25313     1\n",
       "25428     1\n",
       "26988     1\n",
       "28013     1\n",
       "39759     1\n",
       "45019     1\n",
       "47559     1\n",
       "49402     1\n",
       "51488     1\n",
       "60441     1\n",
       "61119     1\n",
       "63097     1\n",
       "83195     1\n",
       "Name: duration_sec, Length: 2367, dtype: int64"
      ]
     },
     "execution_count": 43,
     "metadata": {},
     "output_type": "execute_result"
    }
   ],
   "source": [
    "df['duration_sec'].value_counts().sort_index()"
   ]
  },
  {
   "cell_type": "code",
   "execution_count": 44,
   "metadata": {},
   "outputs": [
    {
     "data": {
      "image/png": "[encoded data removed]",
      "text/plain": [
       "<matplotlib.figure.Figure at 0x7f60d13c6710>"
      ]
     },
     "metadata": {
      "needs_background": "light"
     },
     "output_type": "display_data"
    }
   ],
   "source": [
    "dataset = pd.DataFrame({'Attribute': ['max_duration', 'min_duration'], 'Duration': [83195, 61]})\n",
    "plt_plot_function(dataset, ylabel = 'Seconds', ticks = [0,1], labels = ['max_duration', 'min_duration'])"
   ]
  },
  {
   "cell_type": "markdown",
   "metadata": {},
   "source": [
    "Distribution between maximum and minimum rides duration"
   ]
  },
  {
   "cell_type": "markdown",
   "metadata": {},
   "source": [
    "### Discuss the distribution(s) of your variable(s) of interest. Were there any unusual points? Did you need to perform any transformations?\n",
    "\n",
    "> I had the following observations in my univariate exploration:\n",
    "1. A variable of interest was the 'member_birth_year' column which gave me info of when each user was born. I had this column transformed to 'age' by subtracting from the year the trips were taken (2019). \n",
    "2. Gender: I observed that some people either didn't identify as male or female, or would rather not state. This group is a small sample of my dataset and would not dispute the result I inferred.\n",
    "3. Station name: The station where a the most number of users start their rides is also where a handful of others end theirs. This makes transportation planning easier.\n",
    "4. Time: Most users take their rides at around 5pm\n",
    "\n",
    "### Of the features you investigated, were there any unusual distributions? Did you perform any operations on the data to tidy, adjust, or change the form of the data? If so, why did you do this?\n",
    "\n",
    ">  There was an outlier in my 'age' variable. I dropped rows for age 119 years as it might skew my analysis. "
   ]
  },
  {
   "cell_type": "markdown",
   "metadata": {},
   "source": [
    "## Bivariate Exploration\n",
    "\n"
   ]
  },
  {
   "cell_type": "code",
   "execution_count": 45,
   "metadata": {
    "scrolled": true
   },
   "outputs": [
    {
     "name": "stdout",
     "output_type": "stream",
     "text": [
      "5th St at Virginia St            944\n",
      "San Fernando St at 4th St        804\n",
      "San Fernando St at 7th St        611\n",
      "Bancroft Way at Telegraph Ave    503\n",
      "Bancroft Way at College Ave      474\n",
      "Ryland Park                      352\n",
      "San Salvador St at 9th St        350\n",
      "Hearst Ave at Euclid Ave         330\n",
      "2nd St at Julian St              306\n",
      "Haste St at Telegraph Ave        296\n",
      "Name: start_station_name, dtype: int64\n"
     ]
    },
    {
     "data": {
      "text/plain": [
       "5th St at Virginia St            905\n",
       "San Fernando St at 4th St        831\n",
       "San Fernando St at 7th St        657\n",
       "Bancroft Way at Telegraph Ave    528\n",
       "San Salvador St at 9th St        366\n",
       "Ryland Park                      355\n",
       "2nd St at Julian St              293\n",
       "Hearst Ave at Euclid Ave         258\n",
       "Morrison Ave at Julian St        255\n",
       "Bancroft Way at College Ave      248\n",
       "Name: end_station_name, dtype: int64"
      ]
     },
     "execution_count": 45,
     "metadata": {},
     "output_type": "execute_result"
    }
   ],
   "source": [
    "print(df['start_station_name'].value_counts().nlargest(10))\n",
    "df['end_station_name'].value_counts().nlargest(10)"
   ]
  },
  {
   "cell_type": "code",
   "execution_count": 46,
   "metadata": {},
   "outputs": [],
   "source": [
    "station = df[df['start_station_name'].isin(['5th St at Virginia St', 'San Fernando St at 4th St', 'San Fernando St at 7th St', \n",
    "                                            'Bancroft Way at Telegraph Ave', 'Bancroft Way at College Ave', 'Ryland Park', \n",
    "                                            'San Salvador St at 9th St', 'Hearst Ave at Euclid Ave', '2nd St at Julian St', \n",
    "                                            'Haste St at Telegraph Ave']) \n",
    "             & df['end_station_name'].isin(['5th St at Virginia St', 'San Fernando St at 4th St', 'San Fernando St at 7th St', \n",
    "                                            'Bancroft Way at Telegraph Ave', 'San Salvador St at 9th St', 'Ryland Park', \n",
    "                                            '2nd St at Julian St', 'Hearst Ave at Euclid Ave', 'Morrison Ave at Julian St', \n",
    "                                            'Bancroft Way at College Ave'])]"
   ]
  },
  {
   "cell_type": "code",
   "execution_count": 47,
   "metadata": {
    "scrolled": true
   },
   "outputs": [
    {
     "data": {
      "image/png": "[encoded data removed]",
      "text/plain": [
       "<matplotlib.figure.Figure at 0x7f60d145c0f0>"
      ]
     },
     "metadata": {
      "needs_background": "light"
     },
     "output_type": "display_data"
    }
   ],
   "source": [
    "plt.scatter(station['start_station_name'], station['end_station_name'])\n",
    "plt.xticks(rotation = 90);\n",
    "plt.xlabel('start_station_name')\n",
    "plt.ylabel('end_station_name')\n",
    "plt.title('start_station_name vs end_station_name');\n"
   ]
  },
  {
   "cell_type": "markdown",
   "metadata": {},
   "source": [
    "This shows a correlation between start and end stations (considering a part sample)"
   ]
  },
  {
   "cell_type": "markdown",
   "metadata": {},
   "source": [
    "#### What age range takes longest bike rides?"
   ]
  },
  {
   "cell_type": "code",
   "execution_count": 48,
   "metadata": {
    "scrolled": true
   },
   "outputs": [
    {
     "data": {
      "text/plain": [
       "61        4\n",
       "62        5\n",
       "63        5\n",
       "64        6\n",
       "65        5\n",
       "66        5\n",
       "67        8\n",
       "68        7\n",
       "69       12\n",
       "70        4\n",
       "71        8\n",
       "72       10\n",
       "73       11\n",
       "74        7\n",
       "75        8\n",
       "76       16\n",
       "77        7\n",
       "78        5\n",
       "79        6\n",
       "80       11\n",
       "81        7\n",
       "82       17\n",
       "83       12\n",
       "84        9\n",
       "85       10\n",
       "86        5\n",
       "87        6\n",
       "88       12\n",
       "89        9\n",
       "90       15\n",
       "         ..\n",
       "10745     1\n",
       "12481     1\n",
       "12894     1\n",
       "13609     1\n",
       "13819     1\n",
       "13886     1\n",
       "14880     1\n",
       "15486     1\n",
       "15739     1\n",
       "16655     1\n",
       "16747     1\n",
       "19687     1\n",
       "21452     1\n",
       "21883     1\n",
       "22149     1\n",
       "22225     1\n",
       "24646     1\n",
       "25313     1\n",
       "25428     1\n",
       "26988     1\n",
       "28013     1\n",
       "39759     1\n",
       "45019     1\n",
       "47559     1\n",
       "49402     1\n",
       "51488     1\n",
       "60441     1\n",
       "61119     1\n",
       "63097     1\n",
       "83195     1\n",
       "Name: duration_sec, Length: 2367, dtype: int64"
      ]
     },
     "execution_count": 48,
     "metadata": {},
     "output_type": "execute_result"
    }
   ],
   "source": [
    "df['duration_sec'].value_counts().sort_index()"
   ]
  },
  {
   "cell_type": "code",
   "execution_count": 49,
   "metadata": {},
   "outputs": [],
   "source": [
    "#define a function for scatter plots\n",
    "def plt_scatter_function(x, y, alpha = 1, xlabel = None, ylabel = None, axis = None, title = None, ylim = None, figsize = None):\n",
    "    \n",
    "    \"\"\"\n",
    "    Create a scatter plot.\n",
    "    \n",
    "    This function contains codes that simply create a scatter plot given different parameters to work with.\n",
    "\n",
    "    Parameters\n",
    "    ----------\n",
    "    x : dataset for x axis\n",
    "    y : dataset for y axis\n",
    "    alpha : adjust the transparency of the plot, default value is 1\n",
    "    xlabel : label text, default value is None \n",
    "    ylabel : label text, default value is None\n",
    "    axis : range for values on x and y axes (min and max values for x and y), default value is None\n",
    "    title : title text, default value is None\n",
    "    ylim : range of values for y axis, default value is None\n",
    "    figsize : size of plot, default value is None\n",
    "\n",
    "    \"\"\"\n",
    "    \n",
    "    plt.scatter(x, y, alpha = alpha)\n",
    "    if axis:\n",
    "        plt.axis(axis)\n",
    "    if xlabel:\n",
    "        plt.xlabel(xlabel)\n",
    "    if ylabel:\n",
    "        plt.ylabel(ylabel)\n",
    "    if title:\n",
    "        plt.title(title)\n",
    "    if ylim:\n",
    "        plt.ylim(ylim)\n",
    "    if figsize:\n",
    "        plt.figure(figsize = figsize)\n",
    "    plt.show();"
   ]
  },
  {
   "cell_type": "code",
   "execution_count": 50,
   "metadata": {},
   "outputs": [
    {
     "data": {
      "image/png": "[encoded data removed]",
      "text/plain": [
       "<matplotlib.figure.Figure at 0x7f60d13cc9e8>"
      ]
     },
     "metadata": {
      "needs_background": "light"
     },
     "output_type": "display_data"
    }
   ],
   "source": [
    "plt_scatter_function(df['member_age'], df['duration_sec'], alpha = 0.2, axis =[20, 90, 60, 8000], xlabel = 'Age', \n",
    "                     ylabel = 'Duration', title = 'Duration vs User age')"
   ]
  },
  {
   "cell_type": "markdown",
   "metadata": {},
   "source": [
    "Younger users' trips take fairly longer than the older users' trips"
   ]
  },
  {
   "cell_type": "markdown",
   "metadata": {},
   "source": [
    "#### What gender rides longer?"
   ]
  },
  {
   "cell_type": "code",
   "execution_count": 51,
   "metadata": {},
   "outputs": [
    {
     "data": {
      "image/png": "[encoded data removed]",
      "text/plain": [
       "<matplotlib.figure.Figure at 0x7f60d147cc88>"
      ]
     },
     "metadata": {
      "needs_background": "light"
     },
     "output_type": "display_data"
    }
   ],
   "source": [
    "plt_scatter_function(df['member_gender'], df['duration_sec'], xlabel = 'Gender', ylabel = 'Duration', \n",
    "                     title = 'Duration vs Gender', ylim = [3000,86000])"
   ]
  },
  {
   "cell_type": "markdown",
   "metadata": {},
   "source": [
    "Highest duration of rides are by female users"
   ]
  },
  {
   "cell_type": "markdown",
   "metadata": {},
   "source": [
    "#### Age range of users against days of the week"
   ]
  },
  {
   "cell_type": "code",
   "execution_count": 52,
   "metadata": {},
   "outputs": [
    {
     "data": {
      "image/png": "[encoded data removed]",
      "text/plain": [
       "<matplotlib.figure.Figure at 0x7f60d14885c0>"
      ]
     },
     "metadata": {
      "needs_background": "light"
     },
     "output_type": "display_data"
    }
   ],
   "source": [
    "sb.boxplot(df['trip_day'], df['member_age'], order = ['Mon', 'Tue', 'Wed', 'Thur', 'Fri', 'Sat', 'Sun'])\n",
    "plt.xlabel('Day of the week')\n",
    "plt.ylabel('Age')\n",
    "plt.ylim((15,95))\n",
    "#ylim reduced because of skewed data\n",
    "plt.title('Weekday vs Age');"
   ]
  },
  {
   "cell_type": "markdown",
   "metadata": {},
   "source": [
    "Older users hardly travel during the weekends."
   ]
  },
  {
   "cell_type": "markdown",
   "metadata": {},
   "source": [
    "#### What day of the week do users have more trip durations?"
   ]
  },
  {
   "cell_type": "code",
   "execution_count": 53,
   "metadata": {},
   "outputs": [
    {
     "data": {
      "image/png": "[encoded data removed]",
      "text/plain": [
       "<matplotlib.figure.Figure at 0x7f60d23aaef0>"
      ]
     },
     "metadata": {
      "needs_background": "light"
     },
     "output_type": "display_data"
    }
   ],
   "source": [
    "sb.boxplot(df['trip_day'], df['duration_sec'], order = ['Mon', 'Tue', 'Wed', 'Thur', 'Fri', 'Sat', 'Sun'])\n",
    "plt.xlabel('Day of the week')\n",
    "plt.ylabel('Duration')\n",
    "plt.ylim((0,2400))\n",
    "#ylim reduced because of skewed data\n",
    "plt.title('Longest trip for day of the week');"
   ]
  },
  {
   "cell_type": "markdown",
   "metadata": {},
   "source": [
    "Longer trips are taken on weekends"
   ]
  },
  {
   "cell_type": "markdown",
   "metadata": {},
   "source": [
    "#### What time does each age range take their trips?"
   ]
  },
  {
   "cell_type": "code",
   "execution_count": 59,
   "metadata": {},
   "outputs": [
    {
     "data": {
      "image/png": "[encoded data removed]",
      "text/plain": [
       "<matplotlib.figure.Figure at 0x7f60d15af208>"
      ]
     },
     "metadata": {
      "needs_background": "light"
     },
     "output_type": "display_data"
    },
    {
     "data": {
      "text/plain": [
       "<matplotlib.figure.Figure at 0x7f60d1626978>"
      ]
     },
     "metadata": {},
     "output_type": "display_data"
    }
   ],
   "source": [
    "x_dataset = df['end_time'].dt.hour\n",
    "plt_scatter_function(x_dataset, df['member_age'], alpha = 0.2, xlabel = 'Hour of the day', ylabel = 'Age', \n",
    "                     title = 'Time vs Age', figsize = (9,6))"
   ]
  },
  {
   "cell_type": "markdown",
   "metadata": {},
   "source": [
    "Older people travel less early in the morning and late evenings"
   ]
  },
  {
   "cell_type": "markdown",
   "metadata": {},
   "source": [
    "### Talk about some of the relationships you observed in this part of the investigation. How did the feature(s) of interest vary with other features in the dataset?\n",
    "\n",
    "> Young users take longer trips than older users. Older users take shorter trips. Older users don't take trips during weekends. There is increased duration of trips during weekends.\n",
    "\n",
    "\n",
    "### Did you observe any interesting relationships between the other features (not the main feature(s) of interest)?\n",
    "\n",
    "> Most trips are taken on thursdays but Longer trips are taken during weekends"
   ]
  },
  {
   "cell_type": "markdown",
   "metadata": {},
   "source": [
    "## Multivariate Exploration\n"
   ]
  },
  {
   "cell_type": "code",
   "execution_count": 60,
   "metadata": {},
   "outputs": [
    {
     "data": {
      "image/png": "[encoded data removed]",
      "text/plain": [
       "<matplotlib.figure.Figure at 0x7f60d17565c0>"
      ]
     },
     "metadata": {
      "needs_background": "light"
     },
     "output_type": "display_data"
    }
   ],
   "source": [
    "sb.barplot( x='member_gender', y='duration_sec', data=df, color='blue',  hue='trip_day' , palette='bright')\n",
    "plt.gcf().set_size_inches(15, 5);"
   ]
  },
  {
   "cell_type": "markdown",
   "metadata": {},
   "source": [
    "Other gender take longer trips, Females take relatively longer trips than males"
   ]
  },
  {
   "cell_type": "markdown",
   "metadata": {},
   "source": [
    "### Talk about some of the relationships you observed in this part of the investigation. Were there features that strengthened each other in terms of looking at your feature(s) of interest?\n",
    "\n",
    "> Females' trips take longer time than males.\n",
    "\n",
    "### Were there any interesting or surprising interactions between features?\n",
    "\n",
    "> From univariate visualisation, the least number of trips happen on sundays but we are finding out that trpis on Sundays take longer duration. That could be the reason why the number of trips are reduces."
   ]
  },
  {
   "cell_type": "markdown",
   "metadata": {},
   "source": [
    "## Conclusions\n",
    "> I first isolated users that opted for bike sharing and I found out that they are all subscribers, most of them are males, most of them are 24 years.\n",
    "\n",
    "> I found out that average duration per ride is 684 secs, females take the longest rides, weekend rides are usually longest, younger users take longest rides. It can be drawn that females form a good percentage of young users, old people take shorter rides.\n",
    "\n",
    "> I found out that most users take rides on Thursdays, most users takes rides between 5pm and 6pm everyday. It can be drawn that more bikes are used during these periods, especially on Thursdays.\n",
    "\n",
    "> I found out that most old people don't take rides very early in the mornings, late in the evenings and weekends. It can be drawn that old people mostly travel in the day on weekdays.\n",
    "\n",
    "> I found out that highly populated start stations are also highly populated end stations. There was a correlation between these stations. It can be drawn that stations that have high number of users that want to take trips also have high offloading of other users.\n"
   ]
  },
  {
   "cell_type": "markdown",
   "metadata": {},
   "source": [
    "### I had help from python libraries documentations, stackoverflow.com, geeksforgeeks.org, dataquest.io."
   ]
  }
 ],
 "metadata": {
  "kernelspec": {
   "display_name": "Python 3",
   "language": "python",
   "name": "python3"
  },
  "language_info": {
   "codemirror_mode": {
    "name": "ipython",
    "version": 3
   },
   "file_extension": ".py",
   "mimetype": "text/x-python",
   "name": "python",
   "nbconvert_exporter": "python",
   "pygments_lexer": "ipython3",
   "version": "3.6.3"
  }
 },
 "nbformat": 4,
 "nbformat_minor": 2
}
